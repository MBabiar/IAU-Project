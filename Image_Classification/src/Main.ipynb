{
 "cells": [
  {
   "cell_type": "markdown",
   "id": "063d3ffe",
   "metadata": {},
   "source": [
    "# Start\n"
   ]
  },
  {
   "cell_type": "markdown",
   "id": "5e64de97",
   "metadata": {},
   "source": [
    "Quick solution for tensorflow module not found\n"
   ]
  },
  {
   "cell_type": "code",
   "execution_count": null,
   "id": "eb9e2095",
   "metadata": {},
   "outputs": [],
   "source": [
    "!pip install tensorflow"
   ]
  },
  {
   "cell_type": "code",
   "execution_count": null,
   "id": "initial_id",
   "metadata": {
    "collapsed": true
   },
   "outputs": [],
   "source": [
    "import os\n",
    "import shutil\n",
    "\n",
    "import kagglehub\n",
    "import matplotlib.pyplot as plt\n",
    "import numpy as np\n",
    "import pandas as pd\n",
    "import seaborn as sns\n",
    "from PIL import Image"
   ]
  },
  {
   "cell_type": "markdown",
   "id": "5f2a67b7",
   "metadata": {},
   "source": [
    "## Import data\n"
   ]
  },
  {
   "cell_type": "code",
   "execution_count": null,
   "id": "90e2c095",
   "metadata": {},
   "outputs": [],
   "source": [
    "def import_raw_data():\n",
    "    # Load dataset\n",
    "    path = kagglehub.dataset_download(handle=\"ruchi798/periocular-detection\")\n",
    "\n",
    "    # Define path to files\n",
    "    bbox_file = os.path.join(path, \"Periocular  - bbox.csv\")\n",
    "    landmarks_file = os.path.join(path, \"Periocular  - landmarks.csv\")\n",
    "    dataset_dir = os.path.join(path, \"Dataset\")\n",
    "    images_dir = os.path.join(dataset_dir, \"Dataset\")\n",
    "\n",
    "    # Load data\n",
    "    bbox_df = pd.read_csv(bbox_file)\n",
    "    landmarks_df = pd.read_csv(landmarks_file)\n",
    "\n",
    "    all_files = os.listdir(images_dir)\n",
    "    with_mask = sorted([file for file in all_files if \"with-mask\" in file])\n",
    "    without_mask = sorted([file for file in all_files if \"with-mask\" not in file])\n",
    "\n",
    "    without_mask_prefixes = {file.split(\".\")[0] for file in without_mask}\n",
    "    with_mask_prefixes = {file.split(\"-with-mask\")[0] for file in with_mask}\n",
    "\n",
    "    all_prefixes = sorted(without_mask_prefixes | with_mask_prefixes)\n",
    "\n",
    "    data = []\n",
    "    for prefix in all_prefixes:\n",
    "        image_id = prefix[3:] + \".jpg\"\n",
    "        without_mask_file = f\"{prefix}.jpg\" if prefix in without_mask_prefixes else None\n",
    "        with_mask_file = f\"{prefix}-with-mask.jpg\" if prefix in with_mask_prefixes else None\n",
    "        data.append(\n",
    "            {\n",
    "                \"image_id\": image_id,\n",
    "                \"Without_Mask\": without_mask_file,\n",
    "                \"With_Mask\": with_mask_file,\n",
    "            }\n",
    "        )\n",
    "\n",
    "    df = pd.DataFrame(data)\n",
    "\n",
    "    # Export data\n",
    "    export_path = \"../data/periocular/raw\"\n",
    "    target_dir = \"../data/periocular/raw/images\"\n",
    "    os.makedirs(export_path, exist_ok=True)\n",
    "    os.makedirs(target_dir, exist_ok=True)\n",
    "\n",
    "    bbox_df.to_csv(\"../data/periocular/raw/bbox.csv\", index=False)\n",
    "    landmarks_df.to_csv(\"../data/periocular/raw/landmarks.csv\", index=False)\n",
    "    df.to_csv(\"../data/periocular/raw/images.csv\", index=False)\n",
    "    try:\n",
    "        shutil.copytree(images_dir, target_dir, dirs_exist_ok=True)\n",
    "        print(f\"Successfully copied files to {target_dir}\")\n",
    "    except Exception as e:\n",
    "        print(f\"Error copying files: {e}\")\n",
    "\n",
    "\n",
    "import_raw_data()"
   ]
  },
  {
   "cell_type": "markdown",
   "id": "d4adb0b5",
   "metadata": {},
   "source": [
    "## Definitons\n"
   ]
  },
  {
   "cell_type": "code",
   "execution_count": null,
   "id": "8b88f881",
   "metadata": {},
   "outputs": [],
   "source": [
    "df_bbox = pd.read_csv(\"../data/periocular/raw/bbox.csv\")\n",
    "df_landmarks = pd.read_csv(\"../data/periocular/raw/landmarks.csv\")\n",
    "df_images = pd.read_csv(\"../data/periocular/raw/images.csv\")"
   ]
  },
  {
   "cell_type": "markdown",
   "id": "420be583",
   "metadata": {},
   "source": [
    "# 4.1\n"
   ]
  },
  {
   "cell_type": "markdown",
   "id": "0b4ade08",
   "metadata": {},
   "source": [
    "## A\n"
   ]
  },
  {
   "cell_type": "markdown",
   "id": "18549f99",
   "metadata": {},
   "source": [
    "-   EDA a data preprocessing pre Vami vybrané charakteristiky z datasetu\n"
   ]
  },
  {
   "cell_type": "markdown",
   "id": "b91e30eb",
   "metadata": {},
   "source": [
    "### EDA\n"
   ]
  },
  {
   "cell_type": "markdown",
   "id": "4300b81f",
   "metadata": {},
   "source": [
    "#### Table content\n"
   ]
  },
  {
   "cell_type": "code",
   "execution_count": null,
   "id": "89c57241",
   "metadata": {},
   "outputs": [],
   "source": [
    "df_bbox.info()"
   ]
  },
  {
   "cell_type": "code",
   "execution_count": null,
   "id": "8d7c61ba",
   "metadata": {},
   "outputs": [],
   "source": [
    "df_bbox.head()"
   ]
  },
  {
   "cell_type": "code",
   "execution_count": null,
   "id": "0f9ced7e",
   "metadata": {},
   "outputs": [],
   "source": [
    "df_bbox.duplicated().sum()"
   ]
  },
  {
   "cell_type": "code",
   "execution_count": null,
   "id": "6b25bddb",
   "metadata": {},
   "outputs": [],
   "source": [
    "df_landmarks.info()"
   ]
  },
  {
   "cell_type": "code",
   "execution_count": null,
   "id": "d6a62f12",
   "metadata": {},
   "outputs": [],
   "source": [
    "df_landmarks.head()"
   ]
  },
  {
   "cell_type": "code",
   "execution_count": null,
   "id": "6b10df98",
   "metadata": {},
   "outputs": [],
   "source": [
    "df_landmarks.duplicated().sum()"
   ]
  },
  {
   "cell_type": "code",
   "execution_count": null,
   "id": "6cd73226",
   "metadata": {},
   "outputs": [],
   "source": [
    "df_images.info()"
   ]
  },
  {
   "cell_type": "code",
   "execution_count": null,
   "id": "ab874194",
   "metadata": {},
   "outputs": [],
   "source": [
    "df_images.head()"
   ]
  },
  {
   "cell_type": "code",
   "execution_count": null,
   "id": "ceeb4652",
   "metadata": {},
   "outputs": [],
   "source": [
    "df_images.duplicated().sum()"
   ]
  },
  {
   "cell_type": "code",
   "execution_count": null,
   "id": "1aa53b48",
   "metadata": {},
   "outputs": [],
   "source": [
    "def show_image(file_path, title):\n",
    "    path = \"../data/periocular/raw/images\"\n",
    "    img = Image.open(os.path.join(path, file_path))\n",
    "    plt.imshow(img)\n",
    "    plt.title(title)\n",
    "    plt.axis(\"off\")\n",
    "\n",
    "\n",
    "for _, row in df_images.head(3).iterrows():\n",
    "    plt.figure(figsize=(10, 5))\n",
    "    if pd.notnull(row[\"Without_Mask\"]):\n",
    "        plt.subplot(1, 2, 1)\n",
    "        show_image(row[\"Without_Mask\"], \"Without Mask\")\n",
    "    if pd.notnull(row[\"With_Mask\"]):\n",
    "        plt.subplot(1, 2, 2)\n",
    "        show_image(row[\"With_Mask\"], \"With Mask\")\n",
    "    plt.show()"
   ]
  },
  {
   "cell_type": "markdown",
   "id": "49fc71dc",
   "metadata": {},
   "source": [
    "#### Analysis of atributes\n"
   ]
  },
  {
   "cell_type": "code",
   "execution_count": null,
   "id": "596fd95e",
   "metadata": {},
   "outputs": [],
   "source": [
    "df_bbox.describe()"
   ]
  },
  {
   "cell_type": "code",
   "execution_count": null,
   "id": "450ff036",
   "metadata": {},
   "outputs": [],
   "source": [
    "df_landmarks.describe()"
   ]
  },
  {
   "cell_type": "markdown",
   "id": "6c755c18",
   "metadata": {},
   "source": [
    "#### Correlations\n"
   ]
  },
  {
   "cell_type": "code",
   "execution_count": null,
   "id": "302dd3ac",
   "metadata": {},
   "outputs": [],
   "source": [
    "matica = df_bbox.iloc[:, 1:].corr()\n",
    "matica\n",
    "mask = np.triu(np.ones_like(matica, dtype=bool))\n",
    "plt.figure(figsize=(10, 5))\n",
    "sns.heatmap(matica, mask=mask, annot=True, cmap=\"coolwarm\", vmin=-1, vmax=1)\n",
    "plt.xticks(rotation=45, ha=\"right\")\n",
    "plt.show()"
   ]
  },
  {
   "cell_type": "code",
   "execution_count": null,
   "id": "a55dc354",
   "metadata": {},
   "outputs": [],
   "source": [
    "matica = df_landmarks.iloc[:, 1:].corr()\n",
    "matica\n",
    "mask = np.triu(np.ones_like(matica, dtype=bool))\n",
    "plt.figure(figsize=(10, 5))\n",
    "sns.heatmap(matica, mask=mask, annot=True, cmap=\"coolwarm\", vmin=-1, vmax=1)\n",
    "plt.xticks(rotation=45, ha=\"right\")\n",
    "plt.show()\n",
    "\n",
    "del matica"
   ]
  },
  {
   "cell_type": "markdown",
   "id": "d1f69610",
   "metadata": {},
   "source": [
    "-   There are 35 null values in images\n",
    "-   There are no duplicates\n"
   ]
  },
  {
   "cell_type": "markdown",
   "id": "0a04196e",
   "metadata": {},
   "source": [
    "#### Histograms\n"
   ]
  },
  {
   "cell_type": "code",
   "execution_count": null,
   "id": "4671cacd",
   "metadata": {},
   "outputs": [],
   "source": [
    "df_bbox.plot(kind=\"hist\", bins=50, subplots=True, layout=(2, 2), figsize=(10, 5))\n",
    "plt.plot()"
   ]
  },
  {
   "cell_type": "code",
   "execution_count": null,
   "id": "132b0965",
   "metadata": {},
   "outputs": [],
   "source": [
    "df_landmarks.plot(kind=\"hist\", bins=100, subplots=True, layout=(5, 2), figsize=(15, 20))\n",
    "plt.plot()"
   ]
  },
  {
   "cell_type": "markdown",
   "id": "dbd612e8",
   "metadata": {},
   "source": [
    "#### Findings\n"
   ]
  },
  {
   "cell_type": "markdown",
   "id": "375f144a",
   "metadata": {},
   "source": [
    "-   There are 35 null values in images\n",
    "-   There are no duplicates\n",
    "-   Many features are not gaussian, some are but with very low variance\n"
   ]
  },
  {
   "cell_type": "markdown",
   "id": "878e20a0",
   "metadata": {},
   "source": [
    "### Data preprocessing\n"
   ]
  },
  {
   "cell_type": "markdown",
   "id": "fea4f9fc",
   "metadata": {},
   "source": [
    "#### Removing null values\n"
   ]
  },
  {
   "cell_type": "code",
   "execution_count": null,
   "id": "0e51274e",
   "metadata": {},
   "outputs": [],
   "source": [
    "df_images.dropna().reset_index(drop=True)"
   ]
  },
  {
   "cell_type": "markdown",
   "id": "10298648",
   "metadata": {},
   "source": [
    "#### Outliers\n"
   ]
  },
  {
   "cell_type": "code",
   "execution_count": null,
   "id": "391a4628",
   "metadata": {},
   "outputs": [],
   "source": [
    "plt.figsize = (10, 5)\n",
    "sns.boxplot(data=df_bbox.iloc[:, 1:], orient=\"h\")\n",
    "plt.show()"
   ]
  },
  {
   "cell_type": "markdown",
   "id": "c7b75566",
   "metadata": {},
   "source": [
    "-   Outliers are expected, as face in every picture can be in different position, size, etc.\n",
    "-   Therefore we will not remove them.\n"
   ]
  },
  {
   "cell_type": "code",
   "execution_count": null,
   "id": "b0406ae3",
   "metadata": {},
   "outputs": [],
   "source": [
    "plt.figsize = (10, 5)\n",
    "sns.boxplot(data=df_landmarks.iloc[:, 1:], orient=\"h\")\n",
    "plt.show()"
   ]
  },
  {
   "cell_type": "markdown",
   "id": "2c5b3341",
   "metadata": {},
   "source": [
    "-   There are very few outliers, and it is also expected as people's facial features are also different.\n",
    "-   Therefore we will not remove them.\n"
   ]
  },
  {
   "cell_type": "markdown",
   "id": "d99b2fbf",
   "metadata": {},
   "source": [
    "#### Combining Data Frames\n"
   ]
  },
  {
   "cell_type": "code",
   "execution_count": null,
   "id": "d1122f60",
   "metadata": {},
   "outputs": [],
   "source": [
    "df_combined = pd.merge(df_bbox, df_landmarks, on=\"image_id\")\n",
    "df_combined = pd.merge(df_combined, df_images, on=\"image_id\")\n",
    "df_combined.dropna(inplace=True)\n",
    "df_combined.reset_index(drop=True)\n",
    "df_combined.drop(columns=[\"Without_Mask\", \"With_Mask\"], inplace=True)\n",
    "df_combined.set_index(\"image_id\", inplace=True)\n",
    "df_combined"
   ]
  },
  {
   "cell_type": "markdown",
   "id": "8200a6b5",
   "metadata": {},
   "source": [
    "#### Resizing images\n"
   ]
  },
  {
   "cell_type": "code",
   "execution_count": null,
   "id": "dedaed9f",
   "metadata": {},
   "outputs": [],
   "source": [
    "def resize_images(images, target_size):\n",
    "    output_dir = \"../data/periocular/resized\"\n",
    "    os.makedirs(output_dir, exist_ok=True)\n",
    "    for img_name in images.index:\n",
    "        img_name = img_name.split(\".\")[0]\n",
    "        img_name_without_mask = \"img\" + img_name + \".jpg\"\n",
    "        img_name_with_mask = \"img\" + img_name + \"-with-mask.jpg\"\n",
    "\n",
    "        img_path_without_mask = os.path.join(\"../data/periocular/raw/images\", img_name_without_mask)\n",
    "        img_path_with_mask = os.path.join(\"../data/periocular/raw/images\", img_name_with_mask)\n",
    "\n",
    "        img = Image.open(img_path_without_mask)\n",
    "        img_resized = img.resize(target_size)\n",
    "        img_resized.save(os.path.join(output_dir, os.path.basename(img_path_without_mask)))\n",
    "\n",
    "        img = Image.open(img_path_with_mask)\n",
    "        img_resized = img.resize(target_size)\n",
    "        img_resized.save(os.path.join(output_dir, os.path.basename(img_path_with_mask)))\n",
    "\n",
    "\n",
    "resize_images(df_combined, target_size=(256, 256))"
   ]
  },
  {
   "cell_type": "markdown",
   "id": "4433106a",
   "metadata": {},
   "source": [
    "#### Splitting Data\n"
   ]
  },
  {
   "cell_type": "code",
   "execution_count": null,
   "id": "6d88f44d",
   "metadata": {},
   "outputs": [],
   "source": [
    "# df_test, df_train = train_test_split(df_combined, test_size=0.2, random_state=42)"
   ]
  },
  {
   "cell_type": "markdown",
   "id": "94c8fcc6",
   "metadata": {},
   "source": [
    "## B\n"
   ]
  },
  {
   "cell_type": "markdown",
   "id": "ddbae96a",
   "metadata": {},
   "source": [
    "-   Zdôvodnite výber ML/DL metód vzhľadom na Vami vybraný dataset pre 4.2\n"
   ]
  },
  {
   "cell_type": "markdown",
   "id": "02ff8c5d",
   "metadata": {},
   "source": [
    "# 4.2\n"
   ]
  },
  {
   "cell_type": "markdown",
   "id": "a47c9b05",
   "metadata": {},
   "source": [
    "## A\n"
   ]
  },
  {
   "cell_type": "markdown",
   "id": "9bbf6444",
   "metadata": {},
   "source": [
    "-   Modeluje Vami tie vybrané charakteristiky pomocou vhodných ML/DL\n",
    "    metód. Výsledok modelovania je najlepší model.\n"
   ]
  },
  {
   "cell_type": "markdown",
   "id": "36fac1a1",
   "metadata": {},
   "source": [
    "## B\n"
   ]
  },
  {
   "cell_type": "markdown",
   "id": "8c11d8a1",
   "metadata": {},
   "source": [
    "-   Zhodnotíte Váš prístup a získaný výsledok\n"
   ]
  }
 ],
 "metadata": {
  "kernelspec": {
   "display_name": ".venv",
   "language": "python",
   "name": "python3"
  },
  "language_info": {
   "codemirror_mode": {
    "name": "ipython",
    "version": 3
   },
   "file_extension": ".py",
   "mimetype": "text/x-python",
   "name": "python",
   "nbconvert_exporter": "python",
   "pygments_lexer": "ipython3",
   "version": "3.12.2"
  }
 },
 "nbformat": 4,
 "nbformat_minor": 5
}
