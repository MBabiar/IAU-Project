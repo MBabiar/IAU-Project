{
 "cells": [
  {
   "cell_type": "markdown",
   "id": "063d3ffe",
   "metadata": {},
   "source": [
    "# Start\n"
   ]
  },
  {
   "cell_type": "code",
   "execution_count": null,
   "id": "initial_id",
   "metadata": {
    "collapsed": true
   },
   "outputs": [],
   "source": [
    "import os\n",
    "import random\n",
    "\n",
    "import matplotlib.pyplot as plt\n",
    "import numpy as np\n",
    "import pandas as pd\n",
    "import tensorflow as tf\n",
    "from keras.layers import (\n",
    "    Activation,\n",
    "    BatchNormalization,\n",
    "    Conv2D,\n",
    "    Dense,\n",
    "    Dropout,\n",
    "    Flatten,\n",
    "    InputLayer,\n",
    "    MaxPooling2D,\n",
    "    Rescaling,\n",
    ")\n",
    "from keras.models import Sequential"
   ]
  },
  {
   "cell_type": "code",
   "execution_count": null,
   "id": "976f0618",
   "metadata": {},
   "outputs": [],
   "source": [
    "SEED = 42\n",
    "random.seed(SEED)\n",
    "np.random.seed(SEED)\n",
    "tf.random.set_seed(SEED)\n",
    "tf.config.experimental.enable_op_determinism()\n",
    "tf.random.set_global_generator(tf.random.Generator.from_seed(SEED))\n",
    "os.environ[\"TF_DETERMINISTIC_OPS\"] = \"1\""
   ]
  },
  {
   "cell_type": "markdown",
   "id": "c0c7470d",
   "metadata": {},
   "source": [
    "## Definitions\n"
   ]
  },
  {
   "cell_type": "markdown",
   "id": "4b0a2734",
   "metadata": {},
   "source": [
    "### Main\n"
   ]
  },
  {
   "cell_type": "code",
   "execution_count": null,
   "id": "90c8ebfc",
   "metadata": {},
   "outputs": [],
   "source": [
    "BATCH_SIZE = 64\n",
    "EPOCHS = 100\n",
    "\n",
    "\n",
    "def get_dataset(size, color_mode, clearing, rgb_skip):\n",
    "    if rgb_skip and color_mode == \"rgb\":\n",
    "        ds = tf.keras.preprocessing.image_dataset_from_directory(\n",
    "            f\"../data/processed/{clearing}/{color_mode}_skip/{size}x{size}\",\n",
    "            shuffle=True,\n",
    "            image_size=(size, size),\n",
    "            batch_size=BATCH_SIZE,\n",
    "            color_mode=color_mode,\n",
    "        )\n",
    "    else:\n",
    "        ds = tf.keras.preprocessing.image_dataset_from_directory(\n",
    "            f\"../data/processed/{clearing}/{color_mode}/{size}x{size}\",\n",
    "            shuffle=True,\n",
    "            image_size=(size, size),\n",
    "            batch_size=BATCH_SIZE,\n",
    "            color_mode=color_mode,\n",
    "        )\n",
    "\n",
    "    # Split dataset\n",
    "    data_size = len(ds)\n",
    "    train_split = 0.7\n",
    "    val_split = 0.2\n",
    "    test_split = 0.1\n",
    "\n",
    "    train_size = int(train_split * data_size)\n",
    "    val_size = int(val_split * data_size)\n",
    "\n",
    "    train_ds = ds.take(train_size)\n",
    "    val_ds = ds.skip(train_size).take(val_size)\n",
    "    test_ds = ds.skip(train_size).skip(val_size)\n",
    "\n",
    "    # Cache, shuffle and prefetch\n",
    "    buffer_size = len(train_ds) * BATCH_SIZE\n",
    "    buffer_size\n",
    "\n",
    "    number_of_images = train_ds.cardinality().numpy() * BATCH_SIZE\n",
    "    AUTOTUNE = tf.data.AUTOTUNE\n",
    "    train_ds = train_ds.cache().shuffle(number_of_images, seed=SEED).prefetch(buffer_size=AUTOTUNE)\n",
    "    val_ds = val_ds.cache().prefetch(buffer_size=AUTOTUNE)\n",
    "\n",
    "    return train_ds, val_ds, test_ds\n",
    "\n",
    "\n",
    "def get_input_shape(train_ds):\n",
    "    for batch, _ in train_ds.take(1):\n",
    "        return batch.shape"
   ]
  },
  {
   "cell_type": "code",
   "execution_count": null,
   "id": "5e9cb73e",
   "metadata": {},
   "outputs": [],
   "source": [
    "data_augmentation = tf.keras.Sequential(\n",
    "    [\n",
    "        tf.keras.layers.RandomFlip(\"horizontal\"),\n",
    "        tf.keras.layers.RandomRotation(0.1),\n",
    "        tf.keras.layers.RandomZoom(0.1),\n",
    "        tf.keras.layers.RandomContrast(0.1),\n",
    "        tf.keras.layers.RandomBrightness(0.1),\n",
    "    ]\n",
    ")\n",
    "\n",
    "early_stopping = tf.keras.callbacks.EarlyStopping(monitor=\"val_loss\", patience=5, restore_best_weights=True)"
   ]
  },
  {
   "cell_type": "code",
   "execution_count": null,
   "id": "9e4b463c",
   "metadata": {},
   "outputs": [],
   "source": [
    "def show_accuracy(history):\n",
    "    plt.plot(history.history[\"accuracy\"], label=\"Training Accuracy\")\n",
    "    plt.plot(history.history[\"val_accuracy\"], label=\"Validation Accuracy\")\n",
    "    plt.title(\"Model accuracy\")\n",
    "    plt.ylabel(\"Accuracy\")\n",
    "    plt.xlabel(\"Epoch\")\n",
    "    plt.legend([\"Train\", \"Validation\"], loc=\"upper left\")\n",
    "    plt.show()\n",
    "\n",
    "\n",
    "def show_loss(history):\n",
    "    plt.plot(history.history[\"loss\"], label=\"Training Loss\")\n",
    "    plt.plot(history.history[\"val_loss\"], label=\"Validation Loss\")\n",
    "    plt.title(\"Model loss\")\n",
    "    plt.ylabel(\"Loss\")\n",
    "    plt.xlabel(\"Epoch\")\n",
    "    plt.legend([\"Train\", \"Validation\"], loc=\"upper left\")\n",
    "    plt.show()\n",
    "\n",
    "\n",
    "def show_evaluation(model, val_ds, history):\n",
    "    loss, acc = model.evaluate(val_ds, batch_size=BATCH_SIZE)\n",
    "    print(f\"Loss: {round(loss, 3)}, Acc: {round(acc*100, 3)}%\")\n",
    "    show_accuracy(history)\n",
    "    show_loss(history)\n",
    "\n",
    "\n",
    "def show_evaluation_df(history):\n",
    "    plt.plot(history[\"accuracy\"], label=\"Training Accuracy\")\n",
    "    plt.plot(history[\"val_accuracy\"], label=\"Validation Accuracy\")\n",
    "    plt.title(\"Model accuracy\")\n",
    "    plt.ylabel(\"Accuracy\")\n",
    "    plt.xlabel(\"Epoch\")\n",
    "    plt.legend([\"Train\", \"Validation\"], loc=\"upper left\")\n",
    "    plt.show()\n",
    "\n",
    "    plt.plot(history[\"loss\"], label=\"Training Loss\")\n",
    "    plt.plot(history[\"val_loss\"], label=\"Validation Loss\")\n",
    "    plt.title(\"Model loss\")\n",
    "    plt.ylabel(\"Loss\")\n",
    "    plt.xlabel(\"Epoch\")\n",
    "    plt.legend([\"Train\", \"Validation\"], loc=\"upper left\")\n",
    "    plt.show()"
   ]
  },
  {
   "cell_type": "markdown",
   "id": "e2dc8688",
   "metadata": {},
   "source": [
    "### Testing\n"
   ]
  },
  {
   "cell_type": "code",
   "execution_count": null,
   "id": "b50e7df9",
   "metadata": {},
   "outputs": [],
   "source": [
    "def get_model(input_shape, learning_rate=0.001):\n",
    "    model = Sequential(\n",
    "        [\n",
    "            # Preprocessing layers\n",
    "            InputLayer(shape=input_shape[1:]),\n",
    "            Rescaling(1.0 / 255),\n",
    "            # Input and first conv block\n",
    "            Conv2D(32, (3, 3), activation=\"relu\"),\n",
    "            MaxPooling2D((2, 2)),\n",
    "            Dropout(0.1),\n",
    "            # Second conv block\n",
    "            Conv2D(64, (3, 3), activation=\"relu\"),\n",
    "            MaxPooling2D((2, 2)),\n",
    "            Dropout(0.1),\n",
    "            # Third conv block\n",
    "            Conv2D(128, (3, 3), activation=\"relu\"),\n",
    "            MaxPooling2D((2, 2)),\n",
    "            Dropout(0.1),\n",
    "            # Flatten and dense layers\n",
    "            Flatten(),\n",
    "            Dense(256, activation=\"relu\"),\n",
    "            Dropout(0.1),\n",
    "            Dense(64, activation=\"relu\"),\n",
    "            Dropout(0.1),\n",
    "            Dense(16, activation=\"relu\"),\n",
    "            Dropout(0.1),\n",
    "            Dense(3, activation=\"softmax\"),\n",
    "        ]\n",
    "    )\n",
    "\n",
    "    model.compile(\n",
    "        optimizer=tf.keras.optimizers.Adam(learning_rate=learning_rate),\n",
    "        loss=\"sparse_categorical_crossentropy\",\n",
    "        metrics=[\"accuracy\"],\n",
    "    )\n",
    "\n",
    "    return model"
   ]
  },
  {
   "cell_type": "code",
   "execution_count": null,
   "id": "e8096840",
   "metadata": {},
   "outputs": [],
   "source": [
    "if not os.path.exists(\"../model_history\"):\n",
    "    os.makedirs(\"../model_history\")"
   ]
  },
  {
   "cell_type": "code",
   "execution_count": null,
   "id": "660f8eb8",
   "metadata": {},
   "outputs": [],
   "source": [
    "def test_model(clearing, color, size, rgb_skip):\n",
    "    if rgb_skip:\n",
    "        history_out = f\"../model_history/history_{clearing}_{color}_skip_{size}.csv\"\n",
    "    else:\n",
    "        history_out = f\"../model_history/history_{clearing}_{color}_{size}.csv\"\n",
    "    print(f\"Testing model for {clearing}, {color}, {size}, {rgb_skip}\")\n",
    "    if not os.path.exists(history_out):\n",
    "        train_ds, val_ds, test_ds = get_dataset(size, color, clearing, rgb_skip)\n",
    "        train_ds = train_ds.map(lambda x, y: (data_augmentation(x, training=True), y))\n",
    "        input_shape = get_input_shape(train_ds)\n",
    "\n",
    "        model = get_model(input_shape)\n",
    "\n",
    "        history = model.fit(\n",
    "            train_ds,\n",
    "            epochs=EPOCHS,\n",
    "            validation_data=val_ds,\n",
    "            batch_size=BATCH_SIZE,\n",
    "            validation_batch_size=BATCH_SIZE,\n",
    "            callbacks=[early_stopping],\n",
    "        )\n",
    "\n",
    "        history_df = pd.DataFrame(history.history)\n",
    "        history_df.to_csv(history_out, index=False)"
   ]
  },
  {
   "cell_type": "code",
   "execution_count": null,
   "id": "1cff6d7f",
   "metadata": {},
   "outputs": [],
   "source": [
    "def test_model_learning(clearing, color, size, rgb_skip, learning_rate):\n",
    "    if rgb_skip:\n",
    "        history_out = f\"../model_history/history_{clearing}_{color}_skip_{size}_learn{learning_rate}.csv\"\n",
    "    else:\n",
    "        history_out = f\"../model_history/history_{clearing}_{color}_{size}.csv\"\n",
    "    print(f\"Testing model for {clearing}, {color}, {size}, {rgb_skip}, {learning_rate}\")\n",
    "    if not os.path.exists(history_out):\n",
    "        train_ds, val_ds, test_ds = get_dataset(size, color, clearing, rgb_skip)\n",
    "        train_ds = train_ds.map(lambda x, y: (data_augmentation(x, training=True), y))\n",
    "        input_shape = get_input_shape(train_ds)\n",
    "\n",
    "        model = get_model(input_shape, learning_rate)\n",
    "\n",
    "        history = model.fit(\n",
    "            train_ds,\n",
    "            epochs=EPOCHS,\n",
    "            validation_data=val_ds,\n",
    "            batch_size=BATCH_SIZE,\n",
    "            validation_batch_size=BATCH_SIZE,\n",
    "            callbacks=[early_stopping],\n",
    "        )\n",
    "\n",
    "        history_df = pd.DataFrame(history.history)\n",
    "        history_df.to_csv(history_out, index=False)"
   ]
  },
  {
   "cell_type": "markdown",
   "id": "90acbbb0",
   "metadata": {},
   "source": [
    "# Testing\n"
   ]
  },
  {
   "cell_type": "markdown",
   "id": "5620dc33",
   "metadata": {},
   "source": [
    "## Main Model\n"
   ]
  },
  {
   "cell_type": "code",
   "execution_count": null,
   "id": "2cc7619a",
   "metadata": {},
   "outputs": [],
   "source": [
    "train_ds, val_ds, test_ds = get_dataset(64, \"grayscale\", \"1_clearing\", False)\n",
    "train_ds = train_ds.map(lambda x, y: (data_augmentation(x, training=True), y))\n",
    "input_shape = get_input_shape(train_ds)"
   ]
  },
  {
   "cell_type": "code",
   "execution_count": null,
   "id": "2983ebc0",
   "metadata": {},
   "outputs": [],
   "source": [
    "model = Sequential(\n",
    "    [\n",
    "        # Preprocessing layers\n",
    "        InputLayer(shape=input_shape[1:]),\n",
    "        Rescaling(1.0 / 255),\n",
    "        # Input and first conv block\n",
    "        Conv2D(32, (3, 3), activation=\"relu\"),\n",
    "        MaxPooling2D((2, 2)),\n",
    "        Dropout(0.1),\n",
    "        # Second conv block\n",
    "        Conv2D(64, (3, 3), activation=\"relu\"),\n",
    "        MaxPooling2D((2, 2)),\n",
    "        Dropout(0.1),\n",
    "        # Third conv block\n",
    "        Conv2D(128, (3, 3), activation=\"relu\"),\n",
    "        MaxPooling2D((2, 2)),\n",
    "        Dropout(0.1),\n",
    "        # Flatten and dense layers\n",
    "        Flatten(),\n",
    "        Dense(256, activation=\"relu\"),\n",
    "        Dropout(0.1),\n",
    "        Dense(64, activation=\"relu\"),\n",
    "        Dropout(0.1),\n",
    "        Dense(16, activation=\"relu\"),\n",
    "        Dropout(0.1),\n",
    "        Dense(3, activation=\"softmax\"),\n",
    "    ]\n",
    ")\n",
    "\n",
    "model.compile(\n",
    "    optimizer=tf.keras.optimizers.Adam(learning_rate=0.001),\n",
    "    loss=\"sparse_categorical_crossentropy\",\n",
    "    metrics=[\"accuracy\"],\n",
    ")"
   ]
  },
  {
   "cell_type": "code",
   "execution_count": null,
   "id": "0e86340e",
   "metadata": {},
   "outputs": [],
   "source": [
    "history = model.fit(\n",
    "    train_ds,\n",
    "    epochs=EPOCHS,\n",
    "    validation_data=val_ds,\n",
    "    batch_size=BATCH_SIZE,\n",
    "    validation_batch_size=BATCH_SIZE,\n",
    "    callbacks=[early_stopping],\n",
    ")"
   ]
  },
  {
   "cell_type": "code",
   "execution_count": null,
   "id": "2b297374",
   "metadata": {},
   "outputs": [],
   "source": [
    "show_evaluation(model, val_ds, history)"
   ]
  },
  {
   "cell_type": "markdown",
   "id": "ec3e9874",
   "metadata": {},
   "source": [
    "## Testing Dataset\n"
   ]
  },
  {
   "cell_type": "markdown",
   "id": "1dcb3eb9",
   "metadata": {},
   "source": [
    "### Baseline\n"
   ]
  },
  {
   "cell_type": "code",
   "execution_count": null,
   "id": "06263846",
   "metadata": {},
   "outputs": [],
   "source": [
    "test_model(\"1_clearing\", \"grayscale\", 64, False)\n",
    "test_model(\"1_clearing\", \"grayscale\", 96, False)\n",
    "test_model(\"1_clearing\", \"grayscale\", 128, False)\n",
    "test_model(\"1_clearing\", \"rgb\", 64, False)\n",
    "test_model(\"1_clearing\", \"rgb\", 96, False)\n",
    "test_model(\"1_clearing\", \"rgb\", 128, False)\n",
    "test_model(\"1_clearing\", \"rgb\", 64, True)\n",
    "test_model(\"1_clearing\", \"rgb\", 96, True)\n",
    "test_model(\"1_clearing\", \"rgb\", 128, True)"
   ]
  },
  {
   "cell_type": "markdown",
   "id": "62640bd5",
   "metadata": {},
   "source": [
    "### Increased kernel size\n"
   ]
  },
  {
   "cell_type": "code",
   "execution_count": null,
   "id": "fbdaa7ce",
   "metadata": {},
   "outputs": [],
   "source": [
    "# Testing kernel mode 5,5\n",
    "test_model(\"1_clearing\", \"rgb\", 128, False)\n",
    "test_model(\"1_clearing\", \"rgb\", 128, True)"
   ]
  },
  {
   "cell_type": "markdown",
   "id": "ed4b933a",
   "metadata": {},
   "source": [
    "### Cleaning comparison\n"
   ]
  },
  {
   "cell_type": "code",
   "execution_count": null,
   "id": "37cded21",
   "metadata": {},
   "outputs": [],
   "source": [
    "clearings = [\"no_clearing\", \"1_clearing\", \"2_clearing\", \"3_clearing\"]\n",
    "for clearing in clearings:\n",
    "    test_model(clearing, \"rgb\", 64, True)"
   ]
  },
  {
   "cell_type": "markdown",
   "id": "e56afaef",
   "metadata": {},
   "source": [
    "### Learning rate\n"
   ]
  },
  {
   "cell_type": "code",
   "execution_count": null,
   "id": "69457fb2",
   "metadata": {},
   "outputs": [],
   "source": [
    "learning_rates = [\n",
    "    0.01,\n",
    "    0.005,\n",
    "    0.002,\n",
    "    0.0015,\n",
    "    0.00075,\n",
    "    0.0005,\n",
    "    0.0001,\n",
    "]\n",
    "\n",
    "for learning_rate in learning_rates:\n",
    "    test_model_learning(\"1_clearing\", \"rgb\", 64, True, learning_rate)"
   ]
  },
  {
   "cell_type": "code",
   "execution_count": null,
   "id": "52af7e44",
   "metadata": {},
   "outputs": [],
   "source": [
    "test_model_learning(\"1_clearing\", \"rgb\", 64, True, 0.0001)"
   ]
  }
 ],
 "metadata": {
  "kernelspec": {
   "display_name": "tf",
   "language": "python",
   "name": "python3"
  },
  "language_info": {
   "codemirror_mode": {
    "name": "ipython",
    "version": 3
   },
   "file_extension": ".py",
   "mimetype": "text/x-python",
   "name": "python",
   "nbconvert_exporter": "python",
   "pygments_lexer": "ipython3",
   "version": "3.12.7"
  }
 },
 "nbformat": 4,
 "nbformat_minor": 5
}
