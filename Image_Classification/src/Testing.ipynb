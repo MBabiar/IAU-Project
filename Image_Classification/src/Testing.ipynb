{
 "cells": [
  {
   "cell_type": "markdown",
   "id": "063d3ffe",
   "metadata": {},
   "source": [
    "# Start\n"
   ]
  },
  {
   "cell_type": "code",
   "execution_count": 1,
   "id": "initial_id",
   "metadata": {
    "collapsed": true
   },
   "outputs": [],
   "source": [
    "import random\n",
    "\n",
    "import matplotlib.pyplot as plt\n",
    "import numpy as np\n",
    "import tensorflow as tf\n",
    "from keras.layers import (\n",
    "    BatchNormalization,\n",
    "    Conv2D,\n",
    "    Dense,\n",
    "    Dropout,\n",
    "    Flatten,\n",
    "    InputLayer,\n",
    "    MaxPooling2D,\n",
    "    Rescaling,\n",
    ")\n",
    "from keras.models import Sequential"
   ]
  },
  {
   "cell_type": "code",
   "execution_count": 2,
   "id": "976f0618",
   "metadata": {},
   "outputs": [],
   "source": [
    "SEED = 42\n",
    "random.seed(SEED)\n",
    "np.random.seed(SEED)\n",
    "tf.random.set_seed(SEED)\n",
    "tf.config.experimental.enable_op_determinism()"
   ]
  },
  {
   "cell_type": "markdown",
   "id": "90acbbb0",
   "metadata": {},
   "source": [
    "# Testing\n"
   ]
  },
  {
   "cell_type": "markdown",
   "id": "4ef2575b",
   "metadata": {},
   "source": [
    "## Definitions\n"
   ]
  },
  {
   "cell_type": "code",
   "execution_count": 3,
   "id": "7afdc553",
   "metadata": {},
   "outputs": [],
   "source": [
    "BATCH_SIZE = 64\n",
    "EPOCHS = 25\n",
    "\n",
    "\n",
    "def get_dataset(size, color_mode):\n",
    "    # Load dataset\n",
    "    ds = tf.keras.preprocessing.image_dataset_from_directory(\n",
    "        f\"../data/processed/faces/{color_mode}/{size}x{size}\",\n",
    "        shuffle=True,\n",
    "        image_size=(size, size),\n",
    "        batch_size=BATCH_SIZE,\n",
    "    )\n",
    "\n",
    "    # Split dataset\n",
    "    data_size = len(ds)\n",
    "    train_split = 0.7\n",
    "    val_split = 0.2\n",
    "    test_split = 0.1\n",
    "\n",
    "    train_size = int(train_split * data_size)\n",
    "    val_size = int(val_split * data_size)\n",
    "\n",
    "    train_ds = ds.take(train_size)\n",
    "    val_ds = ds.skip(train_size).take(val_size)\n",
    "    test_ds = ds.skip(train_size).skip(val_size)\n",
    "\n",
    "    # Cache, shuffle and prefetch\n",
    "    buffer_size = len(train_ds) * BATCH_SIZE\n",
    "    buffer_size\n",
    "\n",
    "    AUTOTUNE = tf.data.AUTOTUNE\n",
    "    train_ds = train_ds.cache().shuffle(1000).prefetch(buffer_size=AUTOTUNE)\n",
    "    val_ds = val_ds.cache().prefetch(buffer_size=AUTOTUNE)\n",
    "\n",
    "    input_shape = [BATCH_SIZE, size, size, 1] if color_mode == \"grayscale\" else [BATCH_SIZE, size, size, 3]\n",
    "\n",
    "    return train_ds, val_ds, test_ds, input_shape\n",
    "\n",
    "\n",
    "def get_input_shape(train_ds):\n",
    "    for batch, _ in train_ds.take(1):\n",
    "        return batch.shape"
   ]
  },
  {
   "cell_type": "code",
   "execution_count": 4,
   "id": "21dd1b7a",
   "metadata": {},
   "outputs": [],
   "source": [
    "def show_accuracy(history):\n",
    "    plt.plot(history.history[\"accuracy\"], label=\"Training Accuracy\")\n",
    "    plt.plot(history.history[\"val_accuracy\"], label=\"Validation Accuracy\")\n",
    "    plt.title(\"Model accuracy\")\n",
    "    plt.ylabel(\"Accuracy\")\n",
    "    plt.xlabel(\"Epoch\")\n",
    "    plt.legend([\"Train\", \"Validation\"], loc=\"upper left\")\n",
    "    plt.show()\n",
    "\n",
    "\n",
    "def show_loss(history):\n",
    "    plt.plot(history.history[\"loss\"], label=\"Training Loss\")\n",
    "    plt.plot(history.history[\"val_loss\"], label=\"Validation Loss\")\n",
    "    plt.title(\"Model loss\")\n",
    "    plt.ylabel(\"Loss\")\n",
    "    plt.xlabel(\"Epoch\")\n",
    "    plt.legend([\"Train\", \"Validation\"], loc=\"upper left\")\n",
    "    plt.show()\n",
    "\n",
    "\n",
    "def show_evaluation(model, val_ds, history):\n",
    "    loss, acc = model.evaluate(val_ds, batch_size=BATCH_SIZE)\n",
    "    print(f\"Loss: {round(loss, 3)}, Acc: {round(acc*100, 3)}%\")\n",
    "    show_accuracy(history)\n",
    "    show_loss(history)"
   ]
  },
  {
   "cell_type": "code",
   "execution_count": 5,
   "id": "73d0a116",
   "metadata": {},
   "outputs": [],
   "source": [
    "data_augmentation = tf.keras.Sequential(\n",
    "    [\n",
    "        tf.keras.layers.RandomFlip(\"horizontal\"),\n",
    "        tf.keras.layers.RandomRotation(0.1),\n",
    "        tf.keras.layers.RandomZoom(0.1),\n",
    "    ]\n",
    ")\n",
    "\n",
    "early_stopping = tf.keras.callbacks.EarlyStopping(monitor=\"val_loss\", patience=5, restore_best_weights=True)"
   ]
  },
  {
   "cell_type": "markdown",
   "id": "5620dc33",
   "metadata": {},
   "source": [
    "## Main Model\n"
   ]
  },
  {
   "cell_type": "code",
   "execution_count": 6,
   "id": "2cc7619a",
   "metadata": {},
   "outputs": [
    {
     "name": "stdout",
     "output_type": "stream",
     "text": [
      "Found 18652 files belonging to 3 classes.\n"
     ]
    }
   ],
   "source": [
    "train_ds, val_ds, test_ds, input_shape = get_dataset(64, \"rgb\")\n",
    "train_ds = train_ds.map(lambda x, y: (data_augmentation(x, training=True), y))"
   ]
  },
  {
   "cell_type": "code",
   "execution_count": 7,
   "id": "2983ebc0",
   "metadata": {},
   "outputs": [],
   "source": [
    "model = Sequential(\n",
    "    [\n",
    "        # Preprocessing layers\n",
    "        InputLayer(shape=input_shape[1:]),\n",
    "        Rescaling(1.0 / 255),\n",
    "        # Input and first conv block\n",
    "        Conv2D(32, (3, 3), activation=\"relu\"),\n",
    "        BatchNormalization(),\n",
    "        MaxPooling2D((2, 2)),\n",
    "        Dropout(0.2),\n",
    "        # Second conv block\n",
    "        Conv2D(64, (3, 3), activation=\"relu\"),\n",
    "        MaxPooling2D((2, 2)),\n",
    "        BatchNormalization(),\n",
    "        Dropout(0.2),\n",
    "        # Third conv block\n",
    "        Conv2D(128, (3, 3), activation=\"relu\"),\n",
    "        MaxPooling2D((2, 2)),\n",
    "        BatchNormalization(),\n",
    "        Dropout(0.5),\n",
    "        # Flatten and dense layers\n",
    "        Flatten(),\n",
    "        Dense(256, activation=\"relu\"),\n",
    "        BatchNormalization(),\n",
    "        Dropout(0.5),\n",
    "        Dense(3, activation=\"softmax\"),\n",
    "    ]\n",
    ")\n",
    "\n",
    "model.compile(\n",
    "    optimizer=\"adam\",\n",
    "    loss=\"sparse_categorical_crossentropy\",\n",
    "    metrics=[\"accuracy\"],\n",
    ")"
   ]
  },
  {
   "cell_type": "code",
   "execution_count": 8,
   "id": "0e86340e",
   "metadata": {},
   "outputs": [
    {
     "name": "stdout",
     "output_type": "stream",
     "text": [
      "Epoch 1/25\n",
      "\u001b[1m204/204\u001b[0m \u001b[32m━━━━━━━━━━━━━━━━━━━━\u001b[0m\u001b[37m\u001b[0m \u001b[1m66s\u001b[0m 266ms/step - accuracy: 0.4690 - loss: 1.4074 - val_accuracy: 0.1131 - val_loss: 1.2573\n",
      "Epoch 2/25\n",
      "\u001b[1m204/204\u001b[0m \u001b[32m━━━━━━━━━━━━━━━━━━━━\u001b[0m\u001b[37m\u001b[0m \u001b[1m54s\u001b[0m 263ms/step - accuracy: 0.6012 - loss: 0.9178 - val_accuracy: 0.6026 - val_loss: 0.8796\n",
      "Epoch 3/25\n",
      "\u001b[1m204/204\u001b[0m \u001b[32m━━━━━━━━━━━━━━━━━━━━\u001b[0m\u001b[37m\u001b[0m \u001b[1m40s\u001b[0m 197ms/step - accuracy: 0.6412 - loss: 0.8243 - val_accuracy: 0.6024 - val_loss: 0.8755\n",
      "Epoch 4/25\n",
      "\u001b[1m204/204\u001b[0m \u001b[32m━━━━━━━━━━━━━━━━━━━━\u001b[0m\u001b[37m\u001b[0m \u001b[1m43s\u001b[0m 210ms/step - accuracy: 0.6722 - loss: 0.7558 - val_accuracy: 0.7093 - val_loss: 0.7050\n",
      "Epoch 5/25\n",
      "\u001b[1m204/204\u001b[0m \u001b[32m━━━━━━━━━━━━━━━━━━━━\u001b[0m\u001b[37m\u001b[0m \u001b[1m36s\u001b[0m 176ms/step - accuracy: 0.6742 - loss: 0.7499 - val_accuracy: 0.6684 - val_loss: 0.7307\n",
      "Epoch 6/25\n",
      "\u001b[1m204/204\u001b[0m \u001b[32m━━━━━━━━━━━━━━━━━━━━\u001b[0m\u001b[37m\u001b[0m \u001b[1m37s\u001b[0m 180ms/step - accuracy: 0.6816 - loss: 0.7198 - val_accuracy: 0.7406 - val_loss: 0.6217\n",
      "Epoch 7/25\n",
      "\u001b[1m204/204\u001b[0m \u001b[32m━━━━━━━━━━━━━━━━━━━━\u001b[0m\u001b[37m\u001b[0m \u001b[1m37s\u001b[0m 182ms/step - accuracy: 0.6988 - loss: 0.6991 - val_accuracy: 0.7093 - val_loss: 0.6891\n",
      "Epoch 8/25\n",
      "\u001b[1m204/204\u001b[0m \u001b[32m━━━━━━━━━━━━━━━━━━━━\u001b[0m\u001b[37m\u001b[0m \u001b[1m37s\u001b[0m 183ms/step - accuracy: 0.7076 - loss: 0.6946 - val_accuracy: 0.6439 - val_loss: 0.7896\n",
      "Epoch 9/25\n",
      "\u001b[1m204/204\u001b[0m \u001b[32m━━━━━━━━━━━━━━━━━━━━\u001b[0m\u001b[37m\u001b[0m \u001b[1m37s\u001b[0m 181ms/step - accuracy: 0.7147 - loss: 0.6645 - val_accuracy: 0.6964 - val_loss: 0.7052\n",
      "Epoch 10/25\n",
      "\u001b[1m204/204\u001b[0m \u001b[32m━━━━━━━━━━━━━━━━━━━━\u001b[0m\u001b[37m\u001b[0m \u001b[1m36s\u001b[0m 176ms/step - accuracy: 0.7223 - loss: 0.6485 - val_accuracy: 0.7260 - val_loss: 0.7535\n",
      "Epoch 11/25\n",
      "\u001b[1m204/204\u001b[0m \u001b[32m━━━━━━━━━━━━━━━━━━━━\u001b[0m\u001b[37m\u001b[0m \u001b[1m36s\u001b[0m 177ms/step - accuracy: 0.7215 - loss: 0.6558 - val_accuracy: 0.7150 - val_loss: 0.6651\n"
     ]
    }
   ],
   "source": [
    "history = model.fit(\n",
    "    train_ds,\n",
    "    epochs=EPOCHS,\n",
    "    validation_data=val_ds,\n",
    "    batch_size=BATCH_SIZE,\n",
    "    validation_batch_size=BATCH_SIZE,\n",
    "    callbacks=[early_stopping],\n",
    ")"
   ]
  },
  {
   "cell_type": "code",
   "execution_count": 9,
   "id": "2b297374",
   "metadata": {},
   "outputs": [
    {
     "name": "stdout",
     "output_type": "stream",
     "text": [
      "\u001b[1m58/58\u001b[0m \u001b[32m━━━━━━━━━━━━━━━━━━━━\u001b[0m\u001b[37m\u001b[0m \u001b[1m2s\u001b[0m 27ms/step - accuracy: 0.7405 - loss: 0.6208\n",
      "Loss: 0.622, Acc: 74.057%\n"
     ]
    },
    {
     "data": {
      "image/png": "[encoded data removed]",
      "text/plain": [
       "<Figure size 640x480 with 1 Axes>"
      ]
     },
     "metadata": {},
     "output_type": "display_data"
    },
    {
     "data": {
      "image/png": "[encoded data removed]",
      "text/plain": [
       "<Figure size 640x480 with 1 Axes>"
      ]
     },
     "metadata": {},
     "output_type": "display_data"
    }
   ],
   "source": [
    "show_evaluation(model, val_ds, history)"
   ]
  },
  {
   "cell_type": "markdown",
   "id": "ec3e9874",
   "metadata": {},
   "source": [
    "## Testing Models\n"
   ]
  },
  {
   "cell_type": "markdown",
   "metadata": {},
   "source": [
    "### Model 1\n"
   ]
  },
  {
   "cell_type": "code",
   "execution_count": null,
   "id": "830ef1aa",
   "metadata": {},
   "outputs": [],
   "source": [
    "train_ds, val_ds, test_ds, input_shape = get_dataset(64, \"rgb\")\n",
    "train_ds = train_ds.map(lambda x, y: (data_augmentation(x, training=True), y))"
   ]
  },
  {
   "cell_type": "code",
   "execution_count": null,
   "id": "e439e9ee",
   "metadata": {},
   "outputs": [],
   "source": [
    "model = Sequential(\n",
    "    [\n",
    "        # Preprocessing layers\n",
    "        InputLayer(shape=input_shape[1:]),\n",
    "        Rescaling(1.0 / 255),\n",
    "        # Input and first conv block\n",
    "        Conv2D(32, (3, 3), activation=\"relu\"),\n",
    "        BatchNormalization(),\n",
    "        MaxPooling2D((2, 2)),\n",
    "        Dropout(0.2),\n",
    "        # Second conv block\n",
    "        Conv2D(64, (3, 3), activation=\"relu\"),\n",
    "        MaxPooling2D((2, 2)),\n",
    "        BatchNormalization(),\n",
    "        Dropout(0.2),\n",
    "        # Third conv block\n",
    "        Conv2D(128, (3, 3), activation=\"relu\"),\n",
    "        MaxPooling2D((2, 2)),\n",
    "        BatchNormalization(),\n",
    "        Dropout(0.2),\n",
    "        # Flatten and dense layers\n",
    "        Flatten(),\n",
    "        Dense(256, activation=\"relu\"),\n",
    "        BatchNormalization(),\n",
    "        Dropout(0.2),\n",
    "        Dense(3, activation=\"softmax\"),\n",
    "    ]\n",
    ")\n",
    "\n",
    "model.compile(\n",
    "    optimizer=\"adam\",\n",
    "    loss=\"sparse_categorical_crossentropy\",\n",
    "    metrics=[\"accuracy\"],\n",
    ")"
   ]
  },
  {
   "cell_type": "code",
   "execution_count": null,
   "id": "6ac719e4",
   "metadata": {},
   "outputs": [],
   "source": [
    "history = model.fit(\n",
    "    train_ds,\n",
    "    epochs=EPOCHS,\n",
    "    validation_data=val_ds,\n",
    "    batch_size=BATCH_SIZE,\n",
    "    validation_batch_size=BATCH_SIZE,\n",
    "    callbacks=[early_stopping],\n",
    ")"
   ]
  },
  {
   "cell_type": "code",
   "execution_count": null,
   "id": "8be93699",
   "metadata": {},
   "outputs": [],
   "source": [
    "show_evaluation(model, val_ds, history)"
   ]
  },
  {
   "cell_type": "markdown",
   "id": "6ed6d8a6",
   "metadata": {},
   "source": [
    "### Model 2\n"
   ]
  },
  {
   "cell_type": "code",
   "execution_count": null,
   "id": "4e4f0756",
   "metadata": {},
   "outputs": [],
   "source": [
    "train_ds, val_ds, test_ds, input_shape = get_dataset(64, \"rgb\")\n",
    "train_ds = train_ds.map(lambda x, y: (data_augmentation(x, training=True), y))"
   ]
  },
  {
   "cell_type": "code",
   "execution_count": null,
   "id": "d6a54006",
   "metadata": {},
   "outputs": [],
   "source": [
    "model = Sequential(\n",
    "    [\n",
    "        # Preprocessing layers\n",
    "        InputLayer(shape=input_shape[1:]),\n",
    "        Rescaling(1.0 / 255),\n",
    "        # Input and first conv block\n",
    "        Conv2D(32, (3, 3), activation=\"relu\"),\n",
    "        BatchNormalization(),\n",
    "        MaxPooling2D((2, 2)),\n",
    "        Dropout(0.2),\n",
    "        # Second conv block\n",
    "        Conv2D(64, (3, 3), activation=\"relu\"),\n",
    "        MaxPooling2D((2, 2)),\n",
    "        BatchNormalization(),\n",
    "        Dropout(0.2),\n",
    "        # Third conv block\n",
    "        Conv2D(128, (3, 3), activation=\"relu\"),\n",
    "        MaxPooling2D((2, 2)),\n",
    "        BatchNormalization(),\n",
    "        Dropout(0.2),\n",
    "        # Flatten and dense layers\n",
    "        Flatten(),\n",
    "        Dense(256, activation=\"relu\"),\n",
    "        BatchNormalization(),\n",
    "        Dropout(0.2),\n",
    "        Dense(64, activation=\"relu\"),\n",
    "        BatchNormalization(),\n",
    "        Dropout(0.2),\n",
    "        Dense(3, activation=\"softmax\"),\n",
    "    ]\n",
    ")\n",
    "\n",
    "model.compile(\n",
    "    optimizer=\"adam\",\n",
    "    loss=\"sparse_categorical_crossentropy\",\n",
    "    metrics=[\"accuracy\"],\n",
    ")"
   ]
  },
  {
   "cell_type": "code",
   "execution_count": null,
   "id": "d2d9d0a0",
   "metadata": {},
   "outputs": [],
   "source": [
    "history = model.fit(\n",
    "    train_ds,\n",
    "    epochs=EPOCHS,\n",
    "    validation_data=val_ds,\n",
    "    batch_size=BATCH_SIZE,\n",
    "    validation_batch_size=BATCH_SIZE,\n",
    "    callbacks=[early_stopping],\n",
    ")"
   ]
  },
  {
   "cell_type": "code",
   "execution_count": null,
   "id": "aefda4ea",
   "metadata": {},
   "outputs": [],
   "source": [
    "show_evaluation(model, val_ds, history)"
   ]
  }
 ],
 "metadata": {
  "kernelspec": {
   "display_name": ".venv",
   "language": "python",
   "name": "python3"
  },
  "language_info": {
   "codemirror_mode": {
    "name": "ipython",
    "version": 3
   },
   "file_extension": ".py",
   "mimetype": "text/x-python",
   "name": "python",
   "nbconvert_exporter": "python",
   "pygments_lexer": "ipython3",
   "version": "3.12.7"
  }
 },
 "nbformat": 4,
 "nbformat_minor": 5
}
