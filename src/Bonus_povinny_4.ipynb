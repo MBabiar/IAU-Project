{
 "cells": [
  {
   "cell_type": "code",
   "id": "initial_id",
   "metadata": {
    "collapsed": true
   },
   "source": [
    "import kagglehub\n",
    "import os\n",
    "import pandas as pd\n",
    "from PIL import Image\n",
    "\n",
    "path = kagglehub.dataset_download(\"ruchi798/periocular-detection\")"
   ],
   "outputs": [],
   "execution_count": null
  },
  {
   "metadata": {},
   "cell_type": "code",
   "source": [
    "files = os.listdir(path)\n",
    "files"
   ],
   "id": "33822c8a75cc2a30",
   "outputs": [],
   "execution_count": null
  },
  {
   "metadata": {},
   "cell_type": "code",
   "source": [
    "bbox_file = os.path.join(path, \"Periocular  - bbox.csv\")\n",
    "landmarks_file = os.path.join(path, \"Periocular  - landmarks.csv\")\n",
    "\n",
    "bbox_df = pd.read_csv(bbox_file)\n",
    "landmarks_df = pd.read_csv(landmarks_file)\n"
   ],
   "id": "85600054d40fc847",
   "outputs": [],
   "execution_count": null
  },
  {
   "metadata": {},
   "cell_type": "code",
   "source": "bbox_df.head()",
   "id": "ce2891299e19766c",
   "outputs": [],
   "execution_count": null
  },
  {
   "metadata": {},
   "cell_type": "code",
   "source": "landmarks_df.head()",
   "id": "480b87cd2ac73604",
   "outputs": [],
   "execution_count": null
  },
  {
   "metadata": {},
   "cell_type": "code",
   "source": [
    "dataset_dir = os.path.join(path, \"Dataset\")\n",
    "nested_dataset_dir = os.path.join(dataset_dir, \"Dataset\")"
   ],
   "id": "ae0bce693b689675",
   "outputs": [],
   "execution_count": null
  },
  {
   "metadata": {},
   "cell_type": "code",
   "source": [
    "all_files = os.listdir(nested_dataset_dir)\n",
    "with_mask = sorted([file for file in all_files if 'with-mask' in f])\n",
    "without_mask = sorted([file for file in all_files if 'with-mask' not in f])\n",
    "\n",
    "\n",
    "data = {\n",
    "    \"Without_Mask\": [os.path.join(nested_dataset_dir, img) for img in without_mask],\n",
    "    \"With_Mask\": [os.path.join(nested_dataset_dir, img) for img in with_mask]\n",
    "}\n",
    "df = pd.DataFrame(data)\n",
    "df.head(10)"
   ],
   "id": "dc45e898b12c3ec7",
   "outputs": [],
   "execution_count": null
  }
 ],
 "metadata": {
  "kernelspec": {
   "display_name": "Python 3",
   "language": "python",
   "name": "python3"
  },
  "language_info": {
   "codemirror_mode": {
    "name": "ipython",
    "version": 2
   },
   "file_extension": ".py",
   "mimetype": "text/x-python",
   "name": "python",
   "nbconvert_exporter": "python",
   "pygments_lexer": "ipython2",
   "version": "2.7.6"
  }
 },
 "nbformat": 4,
 "nbformat_minor": 5
}
