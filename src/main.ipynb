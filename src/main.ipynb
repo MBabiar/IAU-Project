{
 "cells": [
  {
   "cell_type": "code",
   "execution_count": null,
   "metadata": {
    "ExecuteTime": {
     "end_time": "2024-09-30T14:28:58.785551Z",
     "start_time": "2024-09-30T14:28:58.707335Z"
    }
   },
   "outputs": [],
   "source": [
    "import pandas\n",
    "\n",
    "\n",
    "file_path = \"../dataset\"\n",
    "files = (\"connections\", \"devices\", \"processes\", \"profiles\")\n",
    "\n",
    "dataset = {}\n",
    "for file in files:\n",
    "    dataset[file] = pandas.read_csv(f\"{file_path}/{file}.csv\", sep=\"\\t\")"
   ]
  }
 ],
 "metadata": {
  "kernelspec": {
   "display_name": ".venv",
   "language": "python",
   "name": "python3"
  },
  "language_info": {
   "codemirror_mode": {
    "name": "ipython",
    "version": 3
   },
   "file_extension": ".py",
   "mimetype": "text/x-python",
   "name": "python",
   "nbconvert_exporter": "python",
   "pygments_lexer": "ipython3",
   "version": "3.12.2"
  }
 },
 "nbformat": 4,
 "nbformat_minor": 2
}
