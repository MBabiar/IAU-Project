{
 "cells": [
  {
   "cell_type": "markdown",
   "metadata": {},
   "source": [
    "# Start\n"
   ]
  },
  {
   "cell_type": "code",
   "execution_count": 1,
   "metadata": {
    "ExecuteTime": {
     "end_time": "2024-10-06T19:41:01.582764Z",
     "start_time": "2024-10-06T19:41:01.472553Z"
    }
   },
   "outputs": [],
   "source": [
    "import pandas as pd\n",
    "import matplotlib.pyplot as plt\n",
    "import seaborn as sns\n",
    "from scipy import stats\n",
    "import numpy as np\n",
    "from typing import Optional\n",
    "\n",
    "\n",
    "file_path: str = \"../dataset\"\n",
    "files: tuple[str, ...] = (\"connections\", \"devices\", \"processes\", \"profiles\")\n",
    "\n",
    "dataset: dict[str, pd.DataFrame] = {}\n",
    "for file in files:\n",
    "    dataset[file] = pd.read_csv(f\"{file_path}/{file}.csv\", sep=\"\\t\")"
   ]
  },
  {
   "cell_type": "markdown",
   "metadata": {},
   "source": [
    "-   importing the necessary libraries\n",
    "-   declaring the variables\n"
   ]
  },
  {
   "cell_type": "markdown",
   "metadata": {},
   "source": [
    "# A.)\n"
   ]
  },
  {
   "cell_type": "markdown",
   "metadata": {},
   "source": [
    "### Connections description\n"
   ]
  },
  {
   "cell_type": "code",
   "execution_count": null,
   "metadata": {
    "ExecuteTime": {
     "end_time": "2024-10-06T19:41:01.744221Z",
     "start_time": "2024-10-06T19:41:01.732698Z"
    }
   },
   "outputs": [],
   "source": [
    "dataset[\"connections\"].info()"
   ]
  },
  {
   "cell_type": "markdown",
   "metadata": {},
   "source": [
    "-   Total Entries: 15,108\n",
    "-   Total Columns: 13\n",
    "-   Column Types:\n",
    "-   11 columns of type float64\n",
    "-   1 column of type int64\n",
    "-   1 column of type object\n",
    "-   There are no missing values in this data\n"
   ]
  },
  {
   "cell_type": "code",
   "execution_count": null,
   "metadata": {
    "ExecuteTime": {
     "end_time": "2024-10-06T19:41:01.758291Z",
     "start_time": "2024-10-06T19:41:01.745742Z"
    }
   },
   "outputs": [],
   "source": [
    "dataset[\"connections\"][\"ts\"]"
   ]
  },
  {
   "cell_type": "markdown",
   "metadata": {},
   "source": [
    "-   The object column \"ts\" is date and time\n"
   ]
  },
  {
   "cell_type": "code",
   "execution_count": null,
   "metadata": {
    "ExecuteTime": {
     "end_time": "2024-10-06T19:41:01.831140Z",
     "start_time": "2024-10-06T19:41:01.787363Z"
    }
   },
   "outputs": [],
   "source": [
    "connection_summary = dataset[\"connections\"].describe()\n",
    "median = (\n",
    "    dataset[\"connections\"].select_dtypes(include=[\"float64\", \"int64\"]).median()\n",
    ")  # adding median to describe method output\n",
    "connection_summary.loc[\"median\"] = median\n",
    "\n",
    "# dropping imei, as it has no meaning to make these statistics out of it\n",
    "connection_summary.drop(columns=[\"imei\"], inplace=True)\n",
    "connection_summary"
   ]
  },
  {
   "cell_type": "markdown",
   "metadata": {},
   "source": [
    "-   From these tables above we can see imei is a long integer and looks like an Id, if we look at processes table, we can also see same values indicating this could be an Id of device.\n",
    "-   Another assumption we can make is that columns specifying a connection type (columns starting with c. such as c.android.youtube) have values ranging from 0 to 100, this could indicate that it is a percentage amount of time that the connection was established.\n"
   ]
  },
  {
   "cell_type": "markdown",
   "metadata": {},
   "source": [
    "-   First few rows might indicate that the data was sample in a 1 minute interval.\n",
    "-   Let's look at it closer.\n"
   ]
  },
  {
   "cell_type": "code",
   "execution_count": null,
   "metadata": {
    "ExecuteTime": {
     "end_time": "2024-10-06T19:41:01.888727Z",
     "start_time": "2024-10-06T19:41:01.872310Z"
    }
   },
   "outputs": [],
   "source": [
    "dataset[\"connections\"].sort_values(by=\"ts\", ascending=True)[\"ts\"]"
   ]
  },
  {
   "cell_type": "markdown",
   "metadata": {},
   "source": [
    "-   Now we see it looks like samples are in a 1 minute interval.\n",
    "-   Let's go further.\n"
   ]
  },
  {
   "cell_type": "code",
   "execution_count": null,
   "metadata": {
    "ExecuteTime": {
     "end_time": "2024-10-06T19:41:02.032298Z",
     "start_time": "2024-10-06T19:41:01.930854Z"
    }
   },
   "outputs": [],
   "source": [
    "times = dataset[\"connections\"].sort_values(by=\"ts\")[\"ts\"]\n",
    "times = pd.to_datetime(times)\n",
    "\n",
    "previous_time: Optional[pd.Series] = None\n",
    "\n",
    "same_times: int = 0\n",
    "non_minute_differences: int = 0\n",
    "\n",
    "\n",
    "for current_time in times:\n",
    "    if previous_time is None:\n",
    "        previous_time = current_time\n",
    "        continue\n",
    "\n",
    "    if (current_time - previous_time).seconds == 0:\n",
    "        same_times += 1\n",
    "\n",
    "    elif (current_time - previous_time).seconds != 60:\n",
    "        non_minute_differences += 1\n",
    "\n",
    "    previous_time = current_time\n",
    "\n",
    "print(f\"Non minute differences: {non_minute_differences}\")\n",
    "print(f\"Same times: {same_times}\")"
   ]
  },
  {
   "cell_type": "markdown",
   "metadata": {},
   "source": [
    "-   From this we can see, that there are data every minute, sometimes more than once at the same time.\n"
   ]
  },
  {
   "cell_type": "code",
   "execution_count": null,
   "metadata": {
    "ExecuteTime": {
     "end_time": "2024-10-06T19:41:02.155641Z",
     "start_time": "2024-10-06T19:41:02.034307Z"
    }
   },
   "outputs": [],
   "source": [
    "times = (\n",
    "    dataset[\"connections\"]\n",
    "    .groupby(by=\"imei\")[[\"imei\", \"ts\"]]\n",
    "    .apply(lambda x: x.sort_values(by=\"ts\", ascending=True))\n",
    "    .reset_index(drop=True)\n",
    ")\n",
    "times"
   ]
  },
  {
   "cell_type": "markdown",
   "metadata": {},
   "source": [
    "-   If we assume that columns starting with \"c.\" are representing percentage amount of time being active during a time window, we need to group them by device serial number (imei) and then look at the time difference.\n"
   ]
  },
  {
   "cell_type": "code",
   "execution_count": null,
   "metadata": {
    "ExecuteTime": {
     "end_time": "2024-10-06T19:41:02.165618Z",
     "start_time": "2024-10-06T19:41:02.157650Z"
    }
   },
   "outputs": [],
   "source": [
    "dataset[\"connections\"][\"mwra\"].value_counts()"
   ]
  },
  {
   "cell_type": "markdown",
   "metadata": {},
   "source": [
    "-   mwra is (Malware-related-activity)\n",
    "-   In data there are only values 1.0 and 0.0 indicating if there was a malware activity in specific time frame.\n"
   ]
  },
  {
   "cell_type": "markdown",
   "metadata": {},
   "source": [
    "### Devices description\n"
   ]
  },
  {
   "cell_type": "code",
   "execution_count": null,
   "metadata": {
    "ExecuteTime": {
     "end_time": "2024-10-06T19:41:02.307477Z",
     "start_time": "2024-10-06T19:41:02.295609Z"
    }
   },
   "outputs": [],
   "source": [
    "dataset[\"devices\"].info()"
   ]
  },
  {
   "cell_type": "code",
   "execution_count": null,
   "metadata": {
    "ExecuteTime": {
     "end_time": "2024-10-06T19:41:02.380338Z",
     "start_time": "2024-10-06T19:41:02.362293Z"
    }
   },
   "outputs": [],
   "source": [
    "devices_summary = dataset[\"devices\"].describe()\n",
    "median = (\n",
    "    dataset[\"devices\"].select_dtypes(include=[\"float64\", \"int64\"]).median()\n",
    ")  # adding median to describe method output\n",
    "devices_summary.loc[\"median\"] = median\n",
    "\n",
    "# dropping imei, as it has no meaning to make these statistics out of it\n",
    "devices_summary.drop(columns=[\"imei\"], inplace=True)\n",
    "devices_summary"
   ]
  },
  {
   "cell_type": "code",
   "execution_count": null,
   "metadata": {
    "ExecuteTime": {
     "end_time": "2024-10-06T19:41:02.504646Z",
     "start_time": "2024-10-06T19:41:02.493102Z"
    }
   },
   "outputs": [],
   "source": [
    "dataset[\"devices\"].head()"
   ]
  },
  {
   "cell_type": "markdown",
   "metadata": {},
   "source": [
    "-   \"store_name\" object is a string\n",
    "-   \"code\" is string, holding code for state\n",
    "-   \"location\" is a string, containing continent and city\n"
   ]
  },
  {
   "cell_type": "markdown",
   "metadata": {},
   "source": [
    "### Processes description\n"
   ]
  },
  {
   "cell_type": "code",
   "execution_count": null,
   "metadata": {
    "ExecuteTime": {
     "end_time": "2024-10-06T19:41:02.563269Z",
     "start_time": "2024-10-06T19:41:02.551575Z"
    }
   },
   "outputs": [],
   "source": [
    "dataset[\"processes\"].info()"
   ]
  },
  {
   "cell_type": "code",
   "execution_count": null,
   "metadata": {
    "ExecuteTime": {
     "end_time": "2024-10-06T19:41:02.810310Z",
     "start_time": "2024-10-06T19:41:02.731992Z"
    }
   },
   "outputs": [],
   "source": [
    "processes_summary = dataset[\"processes\"].describe()\n",
    "median = (\n",
    "    dataset[\"processes\"].select_dtypes(include=[\"float64\", \"int64\"]).median()\n",
    ")  # adding median to describe method output\n",
    "processes_summary.loc[\"median\"] = median\n",
    "\n",
    "# dropping imei, as it has no meaning to make these statistics out of it\n",
    "processes_summary.drop(columns=[\"imei\"], inplace=True)\n",
    "processes_summary"
   ]
  },
  {
   "cell_type": "code",
   "execution_count": null,
   "metadata": {
    "ExecuteTime": {
     "end_time": "2024-10-06T19:41:02.897510Z",
     "start_time": "2024-10-06T19:41:02.879682Z"
    }
   },
   "outputs": [],
   "source": [
    "dataset[\"processes\"].head()"
   ]
  },
  {
   "cell_type": "markdown",
   "metadata": {},
   "source": [
    "### Profiles description\n"
   ]
  },
  {
   "cell_type": "code",
   "execution_count": null,
   "metadata": {
    "ExecuteTime": {
     "end_time": "2024-10-06T19:41:03.097549Z",
     "start_time": "2024-10-06T19:41:03.086159Z"
    }
   },
   "outputs": [],
   "source": [
    "dataset[\"profiles\"].info()"
   ]
  },
  {
   "cell_type": "code",
   "execution_count": null,
   "metadata": {
    "ExecuteTime": {
     "end_time": "2024-10-06T19:41:03.216611Z",
     "start_time": "2024-10-06T19:41:03.197866Z"
    }
   },
   "outputs": [],
   "source": [
    "profiles_summary = dataset[\"profiles\"].describe()\n",
    "median = (\n",
    "    dataset[\"profiles\"].select_dtypes(include=[\"float64\", \"int64\"]).median()\n",
    ")  # adding median to describe method output\n",
    "profiles_summary.loc[\"median\"] = median\n",
    "\n",
    "# dropping imei, as it has no meaning to make these statistics out of it\n",
    "profiles_summary.drop(columns=[\"imei\"], inplace=True)\n",
    "profiles_summary"
   ]
  },
  {
   "cell_type": "code",
   "execution_count": null,
   "metadata": {
    "ExecuteTime": {
     "end_time": "2024-10-06T19:41:03.337952Z",
     "start_time": "2024-10-06T19:41:03.325093Z"
    }
   },
   "outputs": [],
   "source": [
    "dataset[\"profiles\"].head()"
   ]
  },
  {
   "cell_type": "code",
   "execution_count": null,
   "metadata": {},
   "outputs": [],
   "source": [
    "null_values = {file: data.isnull().sum() for file, data in dataset.items()}\n",
    "for file, nulls in null_values.items():\n",
    "    if nulls.sum() == 0:\n",
    "        continue\n",
    "    print(f\"Null values in {file} dataset:\")\n",
    "    print(nulls)\n",
    "    print(\"\\n\")"
   ]
  },
  {
   "cell_type": "markdown",
   "metadata": {},
   "source": [
    "# B.)\n"
   ]
  },
  {
   "cell_type": "markdown",
   "metadata": {},
   "source": [
    "### MWRA\n"
   ]
  },
  {
   "cell_type": "markdown",
   "metadata": {},
   "source": [
    "-   First we look at the most important column \"mwra\" and look at it more in depth.\n"
   ]
  },
  {
   "cell_type": "code",
   "execution_count": null,
   "metadata": {
    "ExecuteTime": {
     "end_time": "2024-10-06T19:41:03.665183Z",
     "start_time": "2024-10-06T19:41:03.657693Z"
    }
   },
   "outputs": [],
   "source": [
    "dataset[\"connections\"][\"mwra\"].value_counts(normalize=True) * 100"
   ]
  },
  {
   "cell_type": "markdown",
   "metadata": {},
   "source": [
    "-   In \"connections\" we can see that positive mwra is ~62%, indicating that there are more positive cases and therefore in future when we put it into our model might falsely evaluate some connections. I would say the closer we are to 50/50 the better.\n"
   ]
  },
  {
   "cell_type": "code",
   "execution_count": null,
   "metadata": {
    "ExecuteTime": {
     "end_time": "2024-10-06T19:41:03.798951Z",
     "start_time": "2024-10-06T19:41:03.792609Z"
    }
   },
   "outputs": [],
   "source": [
    "dataset[\"processes\"][\"mwra\"].value_counts(normalize=True) * 100"
   ]
  },
  {
   "cell_type": "markdown",
   "metadata": {},
   "source": [
    "-   \"mwra\" is the same for \"processes\" as it is for \"connections\"\n"
   ]
  },
  {
   "cell_type": "markdown",
   "metadata": {},
   "source": [
    "### Declaring and Initializing variables for further use.\n"
   ]
  },
  {
   "cell_type": "code",
   "execution_count": 21,
   "metadata": {
    "ExecuteTime": {
     "end_time": "2024-10-06T19:41:03.954025Z",
     "start_time": "2024-10-06T19:41:03.941490Z"
    }
   },
   "outputs": [],
   "source": [
    "chrome_data = dataset[\"connections\"][\"c.android.chrome\"]\n",
    "chrome_mean = chrome_data.mean()\n",
    "chrome_std = chrome_data.std()\n",
    "\n",
    "dogalize_data = dataset[\"connections\"][\"c.dogalize\"]\n",
    "dogalize_mean = dogalize_data.mean()\n",
    "dogalize_std = dogalize_data.std()\n",
    "\n",
    "gm_data = dataset[\"connections\"][\"c.android.gm\"]\n",
    "gm_mean = gm_data.mean()\n",
    "gm_std = gm_data.std()\n",
    "\n",
    "youtube_data = dataset[\"connections\"][\"c.android.youtube\"]\n",
    "youtube_mean = youtube_data.mean()\n",
    "youtube_std = youtube_data.std()\n",
    "\n",
    "katana_data = dataset[\"connections\"][\"c.katana\"]\n",
    "katana_mean = katana_data.mean()\n",
    "katana_std = katana_data.std()\n",
    "\n",
    "raider_data = dataset[\"connections\"][\"c.raider\"]\n",
    "raider_mean = raider_data.mean()\n",
    "raider_std = raider_data.std()\n",
    "\n",
    "vending_data = dataset[\"connections\"][\"c.android.vending\"]\n",
    "vending_mean = vending_data.mean()\n",
    "vending_std = vending_data.std()\n",
    "\n",
    "x86_data = dataset[\"connections\"][\"c.UCMobile.x86\"]\n",
    "x86_mean = x86_data.mean()\n",
    "x86_std = x86_data.std()\n",
    "\n",
    "\n",
    "updateassist_data = dataset[\"connections\"][\"c.updateassist\"]\n",
    "updateassist_mean = updateassist_data.mean()\n",
    "updateassist_std = updateassist_data.std()\n",
    "\n",
    "intl_data = dataset[\"connections\"][\"c.UCMobile.intl\"]\n",
    "intl_mean = intl_data.mean()\n",
    "intl_std = intl_data.std()"
   ]
  },
  {
   "cell_type": "code",
   "execution_count": null,
   "metadata": {},
   "outputs": [],
   "source": [
    "chrome_data.value_counts()"
   ]
  },
  {
   "cell_type": "code",
   "execution_count": null,
   "metadata": {},
   "outputs": [],
   "source": [
    "stats.mode(chrome_data)"
   ]
  },
  {
   "cell_type": "markdown",
   "metadata": {},
   "source": [
    "### c.android.chrome\n"
   ]
  },
  {
   "cell_type": "code",
   "execution_count": null,
   "metadata": {
    "ExecuteTime": {
     "end_time": "2024-10-06T19:41:04.589744Z",
     "start_time": "2024-10-06T19:41:04.105196Z"
    }
   },
   "outputs": [],
   "source": [
    "sns.set_style(\"whitegrid\")\n",
    "plt.figure(figsize=(10, 6))\n",
    "\n",
    "\n",
    "# Plot the histogram and KDE for the data\n",
    "sns.histplot(chrome_data, bins=30, kde=\"True\", label=\"c.android.chrome\")\n",
    "plt.axvline(chrome_mean, color=\"red\", linestyle=\"--\", label=f\"Mean: {chrome_mean:.2f}\")\n",
    "\n",
    "# Customizing the plot\n",
    "plt.title(\"Distribution of c.android.chrome\")\n",
    "plt.xlabel(\"Time active\")\n",
    "plt.ylabel(\"Numbers of occurrences\")\n",
    "plt.legend()\n",
    "plt.grid(True, alpha=0.3)\n",
    "plt.show()"
   ]
  },
  {
   "cell_type": "markdown",
   "metadata": {},
   "source": [
    "-   We can see that the graph is skewed to the right.\n",
    "-   We can see that the type is gaussian, but not a perfect one, but still good.\n"
   ]
  },
  {
   "cell_type": "code",
   "execution_count": null,
   "metadata": {
    "ExecuteTime": {
     "end_time": "2024-10-06T19:41:04.957443Z",
     "start_time": "2024-10-06T19:41:04.592752Z"
    }
   },
   "outputs": [],
   "source": [
    "sns.set_style(\"whitegrid\")\n",
    "plt.figure(figsize=(10, 6))\n",
    "\n",
    "# Plot the histogram and KDE of the actual distribution\n",
    "sns.histplot(data=chrome_data, bins=30, stat=\"density\", alpha=0.3, color=\"gray\", label=\"Histogram\")\n",
    "sns.kdeplot(data=chrome_data, color=\"blue\", label=\"Actual Distribution\", linewidth=2)\n",
    "\n",
    "# Plot the KDE of the Gaussian model\n",
    "x = np.linspace(chrome_data.min(), chrome_data.max(), 100)\n",
    "gaussian = stats.norm.pdf(x, chrome_mean, chrome_std)\n",
    "plt.plot(x, gaussian, color=\"red\", linestyle=\"--\", label=\"Gaussian Model\", linewidth=2)\n",
    "\n",
    "# Customize the plot\n",
    "plt.title(\"Comparison of c.android.chrome Distribution vs Gaussian Model\", fontsize=12, pad=15)\n",
    "plt.xlabel(\"Time Active\", fontsize=10)\n",
    "plt.ylabel(\"Density\", fontsize=10)\n",
    "plt.legend(fontsize=10)\n",
    "plt.grid(True, alpha=0.3)\n",
    "plt.show()"
   ]
  },
  {
   "cell_type": "markdown",
   "metadata": {},
   "source": [
    "-   We can see that \"c.android.chrome\" is gaussian, but not perfect, little bit lower and skewed to the right.\n"
   ]
  },
  {
   "cell_type": "code",
   "execution_count": null,
   "metadata": {
    "ExecuteTime": {
     "end_time": "2024-10-06T19:41:06.376815Z",
     "start_time": "2024-10-06T19:41:06.368188Z"
    }
   },
   "outputs": [],
   "source": [
    "chrome_skew = stats.skew(chrome_data)\n",
    "print(f\"Skewness of c.android.chrome: {chrome_skew}\")"
   ]
  },
  {
   "cell_type": "markdown",
   "metadata": {},
   "source": [
    "-   Skewness is 0.20270904314934854, therefore this data is approximately symmetric, but has a little bit fatter right tail.\n",
    "-   We already saw that the data is skewed to the right, so this is just a confirmation.\n"
   ]
  },
  {
   "cell_type": "code",
   "execution_count": null,
   "metadata": {
    "ExecuteTime": {
     "end_time": "2024-10-06T19:41:06.543467Z",
     "start_time": "2024-10-06T19:41:06.377825Z"
    }
   },
   "outputs": [],
   "source": [
    "sns.set_style(\"whitegrid\")\n",
    "plt.figure(figsize=(10, 6))\n",
    "\n",
    "# Plot the boxplot\n",
    "sns.boxplot(data=chrome_data)\n",
    "\n",
    "# Customizing the plot\n",
    "plt.title(\"Boxplot of c.android.chrome\")\n",
    "plt.xlabel(\"Numbers of occurrences\")\n",
    "plt.ylabel(\"Time active\")\n",
    "plt.grid(True, alpha=0.3)\n",
    "plt.show()"
   ]
  },
  {
   "cell_type": "markdown",
   "metadata": {},
   "source": [
    "-   We see little outliers in the data at lower values, but quite a bit at higher values.\n"
   ]
  },
  {
   "cell_type": "markdown",
   "metadata": {},
   "source": [
    "If we assume the values in columns are active time, we could also look at the range 0-100\n"
   ]
  },
  {
   "cell_type": "code",
   "execution_count": null,
   "metadata": {
    "ExecuteTime": {
     "end_time": "2024-10-06T19:41:06.887791Z",
     "start_time": "2024-10-06T19:41:06.544474Z"
    }
   },
   "outputs": [],
   "source": [
    "sns.set_style(\"whitegrid\")\n",
    "plt.figure(figsize=(10, 6))\n",
    "\n",
    "# Plot the histogram and KDE for the data\n",
    "sns.histplot(chrome_data, bins=30, kde=True)\n",
    "plt.axvline(chrome_mean, color=\"r\", linestyle=\"--\", label=f\"Mean: {chrome_mean:.2f}\")\n",
    "\n",
    "# Customizing the plot\n",
    "plt.xlim(0, 100)\n",
    "plt.title(\"Distribution of c.android.chrome\")\n",
    "plt.xlabel(\"Time active\")\n",
    "plt.ylabel(\"Numbers of occurrences\")\n",
    "plt.grid(True, alpha=0.3)\n",
    "plt.show()"
   ]
  },
  {
   "cell_type": "markdown",
   "metadata": {},
   "source": [
    "-   Here we see that there are little outliers in lower values, but there are quite few of them near maximum value.\n",
    "-   This doesn't really help us, but it is interesting to see.\n"
   ]
  },
  {
   "cell_type": "markdown",
   "metadata": {},
   "source": [
    "### c.dogalize\n"
   ]
  },
  {
   "cell_type": "code",
   "execution_count": null,
   "metadata": {
    "ExecuteTime": {
     "end_time": "2024-10-06T19:41:07.619533Z",
     "start_time": "2024-10-06T19:41:07.241515Z"
    }
   },
   "outputs": [],
   "source": [
    "sns.set_style(\"whitegrid\")\n",
    "plt.figure(figsize=(10, 6))\n",
    "\n",
    "# Plot the histogram and KDE for the data\n",
    "sns.histplot(dogalize_data, bins=30, kde=True)\n",
    "plt.axvline(dogalize_mean, color=\"r\", linestyle=\"--\", label=f\"Mean: {dogalize_mean:.2f}\")\n",
    "\n",
    "# Customizing the plot\n",
    "plt.title(\"Distribution of c.dogalize\")\n",
    "plt.xlabel(\"Time active\")\n",
    "plt.ylabel(\"Numbers of occurrences\")\n",
    "plt.legend()\n",
    "plt.grid(True, alpha=0.3)\n",
    "plt.show()"
   ]
  },
  {
   "cell_type": "markdown",
   "metadata": {},
   "source": [
    "-   We can see that the graph is skewed to the right, but very little.\n",
    "-   We can see that the type is gaussian, almost perfect.\n"
   ]
  },
  {
   "cell_type": "code",
   "execution_count": null,
   "metadata": {
    "ExecuteTime": {
     "end_time": "2024-10-06T19:43:24.125318Z",
     "start_time": "2024-10-06T19:43:23.800147Z"
    }
   },
   "outputs": [],
   "source": [
    "sns.set_style(\"whitegrid\")\n",
    "plt.figure(figsize=(10, 6))\n",
    "\n",
    "# Plot the histogram and KDE of the actual distribution\n",
    "sns.histplot(data=dogalize_data, bins=30, stat=\"density\", alpha=0.3, color=\"gray\", label=\"Histogram\")\n",
    "sns.kdeplot(data=dogalize_data, color=\"blue\", label=\"Actual Distribution\", linewidth=2)\n",
    "\n",
    "# Plot the KDE of the Gaussian model\n",
    "x = np.linspace(dogalize_data.min(), dogalize_data.max(), 100)\n",
    "gaussian = stats.norm.pdf(x, dogalize_mean, dogalize_std)\n",
    "plt.plot(x, gaussian, color=\"red\", linestyle=\"--\", label=\"Gaussian Model\", linewidth=2)\n",
    "\n",
    "# Customize the plot\n",
    "plt.title(\"Comparison of c.dogalize Distribution vs Gaussian Model\", fontsize=12, pad=15)\n",
    "plt.xlabel(\"Time Active\", fontsize=10)\n",
    "plt.ylabel(\"Density\", fontsize=10)\n",
    "plt.legend(fontsize=10)\n",
    "plt.grid(True, alpha=0.3)\n",
    "plt.show()"
   ]
  },
  {
   "cell_type": "markdown",
   "metadata": {},
   "source": [
    "-   We see that \"c.dogalize\" is gaussian, very close to perfect, just very little skewed to the right.\n"
   ]
  },
  {
   "cell_type": "code",
   "execution_count": null,
   "metadata": {
    "ExecuteTime": {
     "end_time": "2024-10-06T19:45:35.025997Z",
     "start_time": "2024-10-06T19:45:35.020477Z"
    }
   },
   "outputs": [],
   "source": [
    "dogalize_skew = stats.skew(dogalize_data)\n",
    "print(f\"Skewness of c.dogalize: {dogalize_skew}\")"
   ]
  },
  {
   "cell_type": "markdown",
   "metadata": {},
   "source": [
    "-   We can see that the data is almost symmetric, but has a little bit fatter right tail.\n",
    "-   Interesting thing to see is that compared to \"c.android.chrome\" the skew is bigger, which indicates that the data is more assymetric. But on graph it looks better than \"c.android.chrome\". It looks better because it is not smaller, but just skewed.\n"
   ]
  },
  {
   "cell_type": "code",
   "execution_count": null,
   "metadata": {
    "ExecuteTime": {
     "end_time": "2024-10-06T19:46:13.789482Z",
     "start_time": "2024-10-06T19:46:13.642195Z"
    }
   },
   "outputs": [],
   "source": [
    "sns.set_style(\"whitegrid\")\n",
    "plt.figure(figsize=(10, 6))\n",
    "\n",
    "# Plot the boxplot\n",
    "sns.boxplot(data=dogalize_data)\n",
    "\n",
    "# Customizing the plot\n",
    "plt.title(\"Boxplot of c.dogalize\")\n",
    "plt.xlabel(\"Numbers of occurrences\")\n",
    "plt.ylabel(\"Time active\")\n",
    "plt.grid(True, alpha=0.3)\n",
    "plt.show()"
   ]
  },
  {
   "cell_type": "markdown",
   "metadata": {},
   "source": [
    "-   We see little outliers in the data at lower values, but quite a lot at higher values.\n",
    "-   We also see more outliers than in \"c.android.chrome\".\n"
   ]
  },
  {
   "cell_type": "markdown",
   "metadata": {},
   "source": [
    "### c.android.gm\n"
   ]
  },
  {
   "cell_type": "code",
   "execution_count": null,
   "metadata": {
    "ExecuteTime": {
     "end_time": "2024-10-06T19:49:46.714297Z",
     "start_time": "2024-10-06T19:49:46.356865Z"
    }
   },
   "outputs": [],
   "source": [
    "sns.set_style(\"whitegrid\")\n",
    "plt.figure(figsize=(10, 6))\n",
    "\n",
    "# Plot the histogram and KDE for the data\n",
    "sns.histplot(gm_data, bins=30, kde=True)\n",
    "plt.axvline(gm_mean, color=\"r\", linestyle=\"--\", label=f\"Mean: {gm_mean:.2f}\")\n",
    "\n",
    "# Customizing the plot\n",
    "plt.title(\"Distribution of c.android.gm\")\n",
    "plt.xlabel(\"Time active\")\n",
    "plt.ylabel(\"Numbers of occurrences\")\n",
    "plt.legend()\n",
    "plt.grid(True, alpha=0.3)\n",
    "plt.show()"
   ]
  },
  {
   "cell_type": "markdown",
   "metadata": {},
   "source": [
    "-   We can see that the graph is skewed to the right, but it can be kinda harder to see. So we will also make sure in later part.\n",
    "-   We can see that the type is gaussian, but not a perfect one, as it has kinda chipped peak.\n"
   ]
  },
  {
   "cell_type": "code",
   "execution_count": null,
   "metadata": {
    "ExecuteTime": {
     "end_time": "2024-10-06T19:50:24.267881Z",
     "start_time": "2024-10-06T19:50:23.972762Z"
    }
   },
   "outputs": [],
   "source": [
    "sns.set_style(\"whitegrid\")\n",
    "plt.figure(figsize=(10, 6))\n",
    "\n",
    "# Plot the histogram and KDE of the actual distribution\n",
    "sns.histplot(data=gm_data, bins=30, stat=\"density\", alpha=0.3, color=\"gray\", label=\"Histogram\")\n",
    "sns.kdeplot(data=gm_data, color=\"blue\", label=\"Actual Distribution\", linewidth=2)\n",
    "\n",
    "# Plot the KDE of the Gaussian model\n",
    "x = np.linspace(gm_data.min(), gm_data.max(), 100)\n",
    "gaussian = stats.norm.pdf(x, gm_mean, gm_std)\n",
    "plt.plot(x, gaussian, color=\"red\", linestyle=\"--\", label=\"Gaussian Model\", linewidth=2)\n",
    "\n",
    "# Customize the plot\n",
    "plt.title(\"Comparison of c.android.gm Distribution vs Gaussian Model\", fontsize=12, pad=15)\n",
    "plt.xlabel(\"Time Active\", fontsize=10)\n",
    "plt.ylabel(\"Density\", fontsize=10)\n",
    "plt.legend(fontsize=10)\n",
    "plt.grid(True, alpha=0.3)\n",
    "plt.show()"
   ]
  },
  {
   "cell_type": "markdown",
   "metadata": {},
   "source": [
    "-   This is a confirmation that the data is skewed to the right, as we can see comparison to gaussian model.\n",
    "-   We also see the chipped peak more clearly.\n"
   ]
  },
  {
   "cell_type": "code",
   "execution_count": null,
   "metadata": {
    "ExecuteTime": {
     "end_time": "2024-10-06T19:51:31.351090Z",
     "start_time": "2024-10-06T19:51:31.345422Z"
    }
   },
   "outputs": [],
   "source": [
    "gm_skew = stats.skew(gm_data)\n",
    "print(f\"Skewness of c.android.gm: {gm_skew}\")"
   ]
  },
  {
   "cell_type": "markdown",
   "metadata": {},
   "source": [
    "-   Here we see our confirmation that the data is skewed to the right, as we can see the skewness is 0.1450922533767856. Which is very close to 0, therefore the data is almost symmetric, but has a little bit fatter right tail.\n"
   ]
  },
  {
   "cell_type": "code",
   "execution_count": null,
   "metadata": {
    "ExecuteTime": {
     "end_time": "2024-10-06T19:52:20.815206Z",
     "start_time": "2024-10-06T19:52:20.659922Z"
    }
   },
   "outputs": [],
   "source": [
    "sns.set_style(\"whitegrid\")\n",
    "plt.figure(figsize=(10, 6))\n",
    "\n",
    "# Plot the boxplot\n",
    "sns.boxplot(data=gm_data)\n",
    "\n",
    "# Customizing the plot\n",
    "plt.title(\"Boxplot of c.android.gm\")\n",
    "plt.xlabel(\"Numbers of occurrences\")\n",
    "plt.ylabel(\"Time active\")\n",
    "plt.grid(True, alpha=0.3)\n",
    "plt.show()"
   ]
  },
  {
   "cell_type": "markdown",
   "metadata": {},
   "source": [
    "-   We again see little outliers at lower values. But we see quite a lot of them at higher values.\n",
    "-   We also see that the range at the higher values where outliers reside is wider that in our previous graphs.\n"
   ]
  },
  {
   "cell_type": "markdown",
   "metadata": {},
   "source": [
    "### c.android.youtube\n"
   ]
  },
  {
   "cell_type": "code",
   "execution_count": null,
   "metadata": {
    "ExecuteTime": {
     "end_time": "2024-10-06T19:53:54.375770Z",
     "start_time": "2024-10-06T19:53:54.033753Z"
    }
   },
   "outputs": [],
   "source": [
    "sns.set_style(\"whitegrid\")\n",
    "plt.figure(figsize=(10, 6))\n",
    "\n",
    "# Plot the histogram and KDE for the data\n",
    "sns.histplot(youtube_data, bins=30, kde=True)\n",
    "plt.axvline(youtube_mean, color=\"r\", linestyle=\"--\", label=f\"Mean: {youtube_mean:.2f}\")\n",
    "\n",
    "# Customizing the plot\n",
    "plt.title(\"Distribution of c.android.youtube\")\n",
    "plt.xlabel(\"Time active\")\n",
    "plt.ylabel(\"Numbers of occurrences\")\n",
    "plt.legend()\n",
    "plt.grid(True, alpha=0.3)\n",
    "plt.show()"
   ]
  },
  {
   "cell_type": "markdown",
   "metadata": {},
   "source": [
    "-   Here we can clearly see negative skew of graph.\n",
    "-   We can see that the type is gaussian type.\n"
   ]
  },
  {
   "cell_type": "code",
   "execution_count": null,
   "metadata": {
    "ExecuteTime": {
     "end_time": "2024-10-06T19:55:19.621645Z",
     "start_time": "2024-10-06T19:55:19.100002Z"
    }
   },
   "outputs": [],
   "source": [
    "sns.set_style(\"whitegrid\")\n",
    "plt.figure(figsize=(10, 6))\n",
    "\n",
    "# Plot the histogram and KDE of the actual distribution\n",
    "sns.histplot(data=youtube_data, bins=30, stat=\"density\", alpha=0.3, color=\"gray\", label=\"Histogram\")\n",
    "sns.kdeplot(data=youtube_data, color=\"blue\", label=\"Actual Distribution\", linewidth=2)\n",
    "\n",
    "# Plot the KDE of the Gaussian model\n",
    "x = np.linspace(youtube_data.min(), youtube_data.max(), 100)\n",
    "gaussian = stats.norm.pdf(x, youtube_mean, youtube_std)\n",
    "plt.plot(x, gaussian, color=\"red\", linestyle=\"--\", label=\"Gaussian Model\", linewidth=2)\n",
    "\n",
    "# Customize the plot\n",
    "plt.title(\"Comparison of c.android.youtube Distribution vs Gaussian Model\", fontsize=12, pad=15)\n",
    "plt.xlabel(\"Time Active\", fontsize=10)\n",
    "plt.ylabel(\"Density\", fontsize=10)\n",
    "plt.legend(fontsize=10)\n",
    "plt.grid(True, alpha=0.3)\n",
    "plt.show()"
   ]
  },
  {
   "cell_type": "markdown",
   "metadata": {},
   "source": [
    "-   We can see that the data is skewed to the left, as we can see the comparison to gaussian model.\n",
    "-   Also peak is higher than gaussian model, indicating less variety in data.\n"
   ]
  },
  {
   "cell_type": "code",
   "execution_count": null,
   "metadata": {},
   "outputs": [],
   "source": [
    "youtube_skew = stats.skew(youtube_data)\n",
    "print(f\"Skewness of c.android.youtube: {youtube_skew}\")"
   ]
  },
  {
   "cell_type": "markdown",
   "metadata": {},
   "source": [
    "-   the skewness of -0.6176239949793928 indicates that the data is moderately skewed to the left.\n"
   ]
  },
  {
   "cell_type": "code",
   "execution_count": null,
   "metadata": {
    "ExecuteTime": {
     "end_time": "2024-10-06T19:57:09.441999Z",
     "start_time": "2024-10-06T19:57:09.309820Z"
    }
   },
   "outputs": [],
   "source": [
    "sns.set_style(\"whitegrid\")\n",
    "plt.figure(figsize=(10, 6))\n",
    "\n",
    "# Plot the boxplot\n",
    "sns.boxplot(data=youtube_data)\n",
    "\n",
    "# Customizing the plot\n",
    "plt.title(\"Boxplot of c.android.youtube\")\n",
    "plt.xlabel(\"Numbers of occurrences\")\n",
    "plt.ylabel(\"Time active\")\n",
    "plt.grid(True, alpha=0.3)\n",
    "plt.show()"
   ]
  },
  {
   "cell_type": "markdown",
   "metadata": {},
   "source": [
    "-   As ve look at outliers, we can see there are a lot of them, way more than our previous graphs. One reason is because the peak of graph is higher, so the range of outliers is wider.\n",
    "-   In contrast to our previous graphs, we have more outliers at lower values than at higher values. This ve can also see in graph as it is skewed to the left.\n"
   ]
  },
  {
   "cell_type": "markdown",
   "metadata": {},
   "source": [
    "### c.katana\n"
   ]
  },
  {
   "cell_type": "code",
   "execution_count": null,
   "metadata": {
    "ExecuteTime": {
     "end_time": "2024-10-06T19:59:09.624987Z",
     "start_time": "2024-10-06T19:59:09.265663Z"
    }
   },
   "outputs": [],
   "source": [
    "sns.set_style(\"whitegrid\")\n",
    "plt.figure(figsize=(10, 6))\n",
    "\n",
    "# Plot the histogram and KDE for the data\n",
    "sns.histplot(katana_data, bins=30, kde=True)\n",
    "plt.axvline(katana_mean, color=\"r\", linestyle=\"--\", label=f\"Mean: {katana_mean:.2f}\")\n",
    "\n",
    "# Customizing the plot\n",
    "plt.title(\"Distribution of c.katana\")\n",
    "plt.xlabel(\"Time active\")\n",
    "plt.ylabel(\"Numbers of occurrences\")\n",
    "plt.legend()\n",
    "plt.grid(True, alpha=0.3)\n",
    "plt.show()"
   ]
  },
  {
   "cell_type": "markdown",
   "metadata": {},
   "source": [
    "-   We can see that the graph is skewed to the right.\n",
    "-   We can see that the type is gaussian type.\n"
   ]
  },
  {
   "cell_type": "code",
   "execution_count": null,
   "metadata": {
    "ExecuteTime": {
     "end_time": "2024-10-06T19:59:40.289638Z",
     "start_time": "2024-10-06T19:59:39.963187Z"
    }
   },
   "outputs": [],
   "source": [
    "sns.set_style(\"whitegrid\")\n",
    "plt.figure(figsize=(10, 6))\n",
    "\n",
    "# Plot the histogram and KDE of the actual distribution\n",
    "sns.histplot(data=katana_data, bins=30, stat=\"density\", alpha=0.3, color=\"gray\", label=\"Histogram\")\n",
    "sns.kdeplot(data=katana_data, color=\"blue\", label=\"Actual Distribution\", linewidth=2)\n",
    "\n",
    "# Plot the KDE of the Gaussian model\n",
    "x = np.linspace(katana_data.min(), katana_data.max(), 100)\n",
    "gaussian = stats.norm.pdf(x, katana_mean, katana_std)\n",
    "plt.plot(x, gaussian, color=\"red\", linestyle=\"--\", label=\"Gaussian Model\", linewidth=2)\n",
    "\n",
    "# Customize the plot\n",
    "plt.title(\"Comparison of c.katana Distribution vs Gaussian Model\", fontsize=12, pad=15)\n",
    "plt.xlabel(\"Time Active\", fontsize=10)\n",
    "plt.ylabel(\"Density\", fontsize=10)\n",
    "plt.legend(fontsize=10)\n",
    "plt.grid(True, alpha=0.3)\n",
    "plt.show()"
   ]
  },
  {
   "cell_type": "markdown",
   "metadata": {},
   "source": [
    "-   We can also clearly see the skewness to the right.\n",
    "-   We can also say that it is guite good gaussian type, but not perfect.\n"
   ]
  },
  {
   "cell_type": "code",
   "execution_count": null,
   "metadata": {
    "ExecuteTime": {
     "end_time": "2024-10-06T20:00:20.536812Z",
     "start_time": "2024-10-06T20:00:20.532347Z"
    }
   },
   "outputs": [],
   "source": [
    "katana_skew = stats.skew(katana_data)\n",
    "print(f\"Skewness of c.katana: {katana_skew}\")"
   ]
  },
  {
   "cell_type": "markdown",
   "metadata": {},
   "source": [
    "-   The skewness of 0.2101258113220123 indicates that the data is approximately symmetric, but has a little bit fatter right tail.\n"
   ]
  },
  {
   "cell_type": "code",
   "execution_count": null,
   "metadata": {
    "ExecuteTime": {
     "end_time": "2024-10-06T20:00:46.077442Z",
     "start_time": "2024-10-06T20:00:45.938656Z"
    }
   },
   "outputs": [],
   "source": [
    "sns.set_style(\"whitegrid\")\n",
    "plt.figure(figsize=(10, 6))\n",
    "\n",
    "# Plot the boxplot\n",
    "sns.boxplot(data=katana_data)\n",
    "\n",
    "# Customizing the plot\n",
    "plt.title(\"Boxplot of c.katana\")\n",
    "plt.xlabel(\"Numbers of occurrences\")\n",
    "plt.ylabel(\"Time active\")\n",
    "plt.grid(True, alpha=0.3)\n",
    "plt.show()"
   ]
  },
  {
   "cell_type": "markdown",
   "metadata": {},
   "source": [
    "-   As we look at outliers, we again see little outliers at lower values, but quite a lot at higher values.\n",
    "-   The number of outliers on low/high values is also the same as you would except when you would see a skewed graph to the right.\n"
   ]
  },
  {
   "cell_type": "markdown",
   "metadata": {},
   "source": [
    "### c.raider\n"
   ]
  },
  {
   "cell_type": "code",
   "execution_count": null,
   "metadata": {
    "ExecuteTime": {
     "end_time": "2024-10-06T20:02:04.347249Z",
     "start_time": "2024-10-06T20:02:03.920241Z"
    }
   },
   "outputs": [],
   "source": [
    "sns.set_style(\"whitegrid\")\n",
    "plt.figure(figsize=(10, 6))\n",
    "\n",
    "# Plot the histogram and KDE for the data\n",
    "sns.histplot(raider_data, bins=30, kde=True)\n",
    "plt.axvline(raider_mean, color=\"r\", linestyle=\"--\", label=f\"Mean: {raider_mean:.2f}\")\n",
    "\n",
    "# Customizing the plot\n",
    "plt.title(\"Distribution of c.raider\")\n",
    "plt.xlabel(\"Time active\")\n",
    "plt.ylabel(\"Numbers of occurrences\")\n",
    "plt.legend()\n",
    "plt.grid(True, alpha=0.3)\n",
    "plt.show()"
   ]
  },
  {
   "cell_type": "markdown",
   "metadata": {},
   "source": [
    "-   Here se can see that the graph is skewed to the left, but very little.\n",
    "-   It looks like it will be very good, almost perfect gaussian type, with probably skewness of more than -0.1 (less than 0.1).\n"
   ]
  },
  {
   "cell_type": "code",
   "execution_count": null,
   "metadata": {
    "ExecuteTime": {
     "end_time": "2024-10-06T20:02:51.219575Z",
     "start_time": "2024-10-06T20:02:50.907422Z"
    }
   },
   "outputs": [],
   "source": [
    "sns.set_style(\"whitegrid\")\n",
    "plt.figure(figsize=(10, 6))\n",
    "\n",
    "# Plot the histogram and KDE of the actual distribution\n",
    "sns.histplot(data=raider_data, bins=30, stat=\"density\", alpha=0.3, color=\"gray\", label=\"Histogram\")\n",
    "sns.kdeplot(data=raider_data, color=\"blue\", label=\"Actual Distribution\", linewidth=2)\n",
    "\n",
    "# Plot the KDE of the Gaussian model\n",
    "x = np.linspace(raider_data.min(), raider_data.max(), 100)\n",
    "gaussian = stats.norm.pdf(x, raider_mean, raider_std)\n",
    "plt.plot(x, gaussian, color=\"red\", linestyle=\"--\", label=\"Gaussian Model\", linewidth=2)\n",
    "\n",
    "# Customize the plot\n",
    "plt.title(\"Comparison of c.raider Distribution vs Gaussian Model\", fontsize=12, pad=15)\n",
    "plt.xlabel(\"Time Active\", fontsize=10)\n",
    "plt.ylabel(\"Density\", fontsize=10)\n",
    "plt.legend(fontsize=10)\n",
    "plt.grid(True, alpha=0.3)\n",
    "plt.show()"
   ]
  },
  {
   "cell_type": "markdown",
   "metadata": {},
   "source": [
    "-   When we compare the graph to gaussian model, we can see that it is almost perfect\n"
   ]
  },
  {
   "cell_type": "code",
   "execution_count": null,
   "metadata": {},
   "outputs": [],
   "source": [
    "raider_skew = stats.skew(raider_data)\n",
    "print(f\"Skewness of c.raider: {raider_skew}\")"
   ]
  },
  {
   "cell_type": "markdown",
   "metadata": {},
   "source": [
    "-   The skewness of -0.023361966464245734 indicates that the data is almost perfectly symmetric. I think we could also say that the data is symmetric as the skewness is very close to 0.\n"
   ]
  },
  {
   "cell_type": "code",
   "execution_count": null,
   "metadata": {
    "ExecuteTime": {
     "end_time": "2024-10-06T20:03:57.473220Z",
     "start_time": "2024-10-06T20:03:57.325331Z"
    }
   },
   "outputs": [],
   "source": [
    "sns.set_style(\"whitegrid\")\n",
    "plt.figure(figsize=(10, 6))\n",
    "\n",
    "# Plot the boxplot\n",
    "sns.boxplot(data=raider_data)\n",
    "\n",
    "# Customizing the plot\n",
    "plt.title(\"Boxplot of c.raider\")\n",
    "plt.xlabel(\"Numbers of occurrences\")\n",
    "plt.ylabel(\"Time active\")\n",
    "plt.grid(True, alpha=0.3)\n",
    "plt.show()"
   ]
  },
  {
   "cell_type": "markdown",
   "metadata": {},
   "source": [
    "-   From deduction of above graphs (not boxplot), we could already say that there are gonna be very similar number of outliers at low/high values as data is almost perfectly symmetric.\n",
    "-   This boxplot also confirms our deduction, as we see almost the same number of outliers at low/high values.\n",
    "-   Although the data is almost perfectly symmetric, there are a lot of outliers, at both low/high values.\n",
    "-   The eye-catching outliers are 0 and 100.\n"
   ]
  },
  {
   "cell_type": "markdown",
   "metadata": {},
   "source": [
    "### c.android.vending\n"
   ]
  },
  {
   "cell_type": "code",
   "execution_count": null,
   "metadata": {
    "ExecuteTime": {
     "end_time": "2024-10-06T20:05:18.123232Z",
     "start_time": "2024-10-06T20:05:17.786467Z"
    }
   },
   "outputs": [],
   "source": [
    "sns.set_style(\"whitegrid\")\n",
    "plt.figure(figsize=(10, 6))\n",
    "\n",
    "# Plot the histogram and KDE for the data\n",
    "sns.histplot(vending_data, bins=30, kde=True)\n",
    "plt.axvline(vending_mean, color=\"r\", linestyle=\"--\", label=f\"Mean: {vending_mean:.2f}\")\n",
    "\n",
    "# Plot the histogram and KDE for the data\n",
    "plt.title(\"Distribution of c.android.vending\")\n",
    "plt.xlabel(\"Time active\")\n",
    "plt.ylabel(\"Numbers of occurrences\")\n",
    "plt.legend()\n",
    "plt.grid(True, alpha=0.3)\n",
    "plt.show()"
   ]
  },
  {
   "cell_type": "markdown",
   "metadata": {},
   "source": [
    "-   We now see a new type of graph, not a gaussian type, but a uniform type.\n",
    "-   Since we can't clearly see the skewness, we will also look at it in the next part.\n"
   ]
  },
  {
   "cell_type": "code",
   "execution_count": null,
   "metadata": {
    "ExecuteTime": {
     "end_time": "2024-10-06T20:06:50.541186Z",
     "start_time": "2024-10-06T20:06:50.242128Z"
    }
   },
   "outputs": [],
   "source": [
    "sns.set_style(\"whitegrid\")\n",
    "plt.figure(figsize=(10, 6))\n",
    "\n",
    "# Fit the uniform distribution\n",
    "a = vending_data.min()\n",
    "b = vending_data.max()\n",
    "x = np.linspace(a, b, vending_data.size)\n",
    "uniform_dist = stats.uniform(loc=a, scale=b - a)\n",
    "\n",
    "# Plot histogram, KDE and uniform distribution\n",
    "sns.histplot(data=vending_data, bins=30, stat=\"density\", alpha=0.3, color=\"gray\", label=\"Histogram\")\n",
    "sns.kdeplot(data=vending_data, color=\"blue\", label=\"Actual Distribution\", linewidth=2)\n",
    "plt.plot(x, uniform_dist.pdf(x), color=\"red\", linestyle=\"--\", linewidth=2, label=\"Uniform Model\")\n",
    "\n",
    "# Customizing the plot\n",
    "plt.title(\"Uniform Distribution Fit for c.UCMobile.intl\")\n",
    "plt.xlim(-5, 105)\n",
    "plt.xlabel(\"Value\")\n",
    "plt.ylabel(\"Density\")\n",
    "plt.legend()\n",
    "plt.grid(True, alpha=0.3)\n",
    "plt.show()"
   ]
  },
  {
   "cell_type": "markdown",
   "metadata": {},
   "source": [
    "-   I think the KDE of our diagram is not that important at limit values(0,100), as it is a prediction of values, therefore the function goes to lower values at limit values.\n",
    "-   The useful part of KDE is in when it reaches the uniform model and there we can see at which values there are a little bit more data and where a little bit less, which we could also see from histogram but this makes it even more clear.\n"
   ]
  },
  {
   "cell_type": "code",
   "execution_count": null,
   "metadata": {
    "ExecuteTime": {
     "end_time": "2024-10-06T20:06:00.431688Z",
     "start_time": "2024-10-06T20:06:00.425648Z"
    }
   },
   "outputs": [],
   "source": [
    "vending_skew = stats.skew(vending_data)\n",
    "print(f\"Skewness of c.android.vending: {vending_skew}\")"
   ]
  },
  {
   "cell_type": "markdown",
   "metadata": {},
   "source": [
    "-   The skewness of 0.015750448964052415 indicates that the data is almost perfectly symmetric.\n"
   ]
  },
  {
   "cell_type": "code",
   "execution_count": null,
   "metadata": {
    "ExecuteTime": {
     "end_time": "2024-10-06T20:06:12.055772Z",
     "start_time": "2024-10-06T20:06:11.924320Z"
    }
   },
   "outputs": [],
   "source": [
    "sns.set_style(\"whitegrid\")\n",
    "plt.figure(figsize=(10, 6))\n",
    "\n",
    "# Plot the boxplot\n",
    "sns.boxplot(data=vending_data)\n",
    "\n",
    "# Customizing the plot\n",
    "plt.title(\"Boxplot of c.android.vending\")\n",
    "plt.xlabel(\"Numbers of occurrences\")\n",
    "plt.ylabel(\"Time active\")\n",
    "plt.grid(True, alpha=0.3)\n",
    "plt.show()"
   ]
  },
  {
   "cell_type": "markdown",
   "metadata": {},
   "source": [
    "-   Logically, there are no outliers in uniform graph.\n"
   ]
  },
  {
   "cell_type": "markdown",
   "metadata": {},
   "source": [
    "### c.UCMobile.x86\n"
   ]
  },
  {
   "cell_type": "code",
   "execution_count": null,
   "metadata": {
    "ExecuteTime": {
     "end_time": "2024-10-06T20:07:50.748638Z",
     "start_time": "2024-10-06T20:07:50.390244Z"
    }
   },
   "outputs": [],
   "source": [
    "sns.set_style(\"whitegrid\")\n",
    "plt.figure(figsize=(10, 6))\n",
    "\n",
    "# Plot the histogram and KDE for the data\n",
    "sns.histplot(x86_data, bins=30, kde=True)\n",
    "plt.axvline(x86_mean, color=\"r\", linestyle=\"--\", label=f\"Mean: {x86_mean:.2f}\")\n",
    "\n",
    "# Customizing the plot\n",
    "plt.title(\"Distribution of c.UCMobile.x86\")\n",
    "plt.xlabel(\"Time active\")\n",
    "plt.ylabel(\"Numbers of occurrences\")\n",
    "plt.legend()\n",
    "plt.grid(True, alpha=0.3)\n",
    "plt.show()"
   ]
  },
  {
   "cell_type": "markdown",
   "metadata": {},
   "source": [
    "-   We again see the uniform type of graph.\n"
   ]
  },
  {
   "cell_type": "code",
   "execution_count": null,
   "metadata": {
    "ExecuteTime": {
     "end_time": "2024-10-06T20:08:27.134427Z",
     "start_time": "2024-10-06T20:08:26.448938Z"
    }
   },
   "outputs": [],
   "source": [
    "sns.set_style(\"whitegrid\")\n",
    "plt.figure(figsize=(10, 6))\n",
    "\n",
    "# Fit the uniform distribution\n",
    "a = x86_data.min()\n",
    "b = x86_data.max()\n",
    "x = np.linspace(a, b, x86_data.size)\n",
    "uniform_dist = stats.uniform(loc=a, scale=b - a)\n",
    "\n",
    "# Plot histogram, KDE and uniform distribution\n",
    "sns.histplot(data=x86_data, bins=30, stat=\"density\", alpha=0.3, color=\"gray\", label=\"Histogram\")\n",
    "sns.kdeplot(data=x86_data, color=\"blue\", label=\"Actual Distribution\", linewidth=2)\n",
    "plt.plot(x, uniform_dist.pdf(x), color=\"red\", linestyle=\"--\", linewidth=2, label=\"Uniform Model\")\n",
    "\n",
    "# Customizing the plot\n",
    "plt.title(\"Uniform Distribution Fit for c.UCMobile.intl\")\n",
    "plt.xlim(-5, 105)\n",
    "plt.xlabel(\"Value\")\n",
    "plt.ylabel(\"Density\")\n",
    "plt.legend()\n",
    "plt.grid(True, alpha=0.3)\n",
    "plt.show()"
   ]
  },
  {
   "cell_type": "markdown",
   "metadata": {},
   "source": [
    "-   We can really say anything new from this clearly, so we move further.\n"
   ]
  },
  {
   "cell_type": "code",
   "execution_count": null,
   "metadata": {
    "ExecuteTime": {
     "end_time": "2024-10-06T20:08:34.319265Z",
     "start_time": "2024-10-06T20:08:34.314259Z"
    }
   },
   "outputs": [],
   "source": [
    "x86_skew = stats.skew(x86_data)\n",
    "print(f\"Skewness of c.UCMobile.x86: {x86_skew}\")"
   ]
  },
  {
   "cell_type": "markdown",
   "metadata": {},
   "source": [
    "-   The skewness of 0.014363279518336651 indicates that the data is almost perfectly symmetric.\n"
   ]
  },
  {
   "cell_type": "code",
   "execution_count": null,
   "metadata": {
    "ExecuteTime": {
     "end_time": "2024-10-06T20:08:49.088534Z",
     "start_time": "2024-10-06T20:08:48.921673Z"
    }
   },
   "outputs": [],
   "source": [
    "sns.set_style(\"whitegrid\")\n",
    "plt.figure(figsize=(10, 6))\n",
    "\n",
    "# Plot the boxplot\n",
    "sns.boxplot(data=x86_data)\n",
    "\n",
    "# Customizing the plot\n",
    "plt.title(\"Boxplot of c.UCMobile.x86\")\n",
    "plt.xlabel(\"Numbers of occurrences\")\n",
    "plt.ylabel(\"Time active\")\n",
    "plt.grid(True, alpha=0.3)\n",
    "plt.show()"
   ]
  },
  {
   "cell_type": "markdown",
   "metadata": {},
   "source": [
    "-   Again, logically, there are no outliers in uniform graph.\n"
   ]
  },
  {
   "cell_type": "markdown",
   "metadata": {},
   "source": [
    "### c.updateassist\n"
   ]
  },
  {
   "cell_type": "code",
   "execution_count": null,
   "metadata": {
    "ExecuteTime": {
     "end_time": "2024-10-06T20:09:47.547596Z",
     "start_time": "2024-10-06T20:09:47.237109Z"
    }
   },
   "outputs": [],
   "source": [
    "sns.set_style(\"whitegrid\")\n",
    "plt.figure(figsize=(10, 6))\n",
    "\n",
    "# Plot the histogram and KDE for the data\n",
    "sns.histplot(updateassist_data, bins=30, kde=True)\n",
    "plt.axvline(updateassist_mean, color=\"r\", linestyle=\"--\", label=f\"Mean: {updateassist_mean:.2f}\")\n",
    "\n",
    "# Customizing the plot\n",
    "plt.title(\"Distribution of c.updateassist\")\n",
    "plt.xlabel(\"Time active\")\n",
    "plt.ylabel(\"Numbers of occurrences\")\n",
    "plt.legend()\n",
    "plt.grid(True, alpha=0.3)\n",
    "plt.show()"
   ]
  },
  {
   "cell_type": "markdown",
   "metadata": {},
   "source": [
    "-   We again see uniform type of graph.\n",
    "-   We can already see that limit values are a little bit higher than middle.\n"
   ]
  },
  {
   "cell_type": "code",
   "execution_count": null,
   "metadata": {
    "ExecuteTime": {
     "end_time": "2024-10-06T20:11:03.240781Z",
     "start_time": "2024-10-06T20:11:02.919855Z"
    }
   },
   "outputs": [],
   "source": [
    "sns.set_style(\"whitegrid\")\n",
    "plt.figure(figsize=(10, 6))\n",
    "\n",
    "# Fit the uniform distribution\n",
    "a = updateassist_data.min()\n",
    "b = updateassist_data.max()\n",
    "x = np.linspace(a, b, updateassist_data.size)\n",
    "uniform_dist = stats.uniform(loc=a, scale=b - a)\n",
    "\n",
    "# Plot histogram, KDE and uniform distribution\n",
    "sns.histplot(data=updateassist_data, bins=30, stat=\"density\", alpha=0.3, color=\"gray\", label=\"Histogram\")\n",
    "sns.kdeplot(data=updateassist_data, color=\"blue\", label=\"Actual Distribution\", linewidth=2)\n",
    "plt.plot(x, uniform_dist.pdf(x), color=\"red\", linestyle=\"--\", linewidth=2, label=\"Uniform Model\")\n",
    "\n",
    "# Customizing the plot\n",
    "plt.title(\"Uniform Distribution Fit for c.UCMobile.intl\")\n",
    "plt.xlim(-5, 105)\n",
    "plt.xlabel(\"Value\")\n",
    "plt.ylabel(\"Density\")\n",
    "plt.legend()\n",
    "plt.grid(True, alpha=0.3)\n",
    "plt.show()"
   ]
  },
  {
   "cell_type": "markdown",
   "metadata": {},
   "source": [
    "-   Here we see the difference between the middle and limit values, which is not that big, but still visible.\n"
   ]
  },
  {
   "cell_type": "code",
   "execution_count": null,
   "metadata": {
    "ExecuteTime": {
     "end_time": "2024-10-06T20:11:09.083603Z",
     "start_time": "2024-10-06T20:11:09.078087Z"
    }
   },
   "outputs": [],
   "source": [
    "updateassist_skew = stats.skew(updateassist_data)\n",
    "print(f\"Skewness of c.updateassist: {updateassist_skew}\")"
   ]
  },
  {
   "cell_type": "markdown",
   "metadata": {},
   "source": [
    "-   The skewness of 0.008035690970213479, the closes value to 0 we had to this point, indicates that the data is almost perfectly symmetric.\n"
   ]
  },
  {
   "cell_type": "code",
   "execution_count": null,
   "metadata": {
    "ExecuteTime": {
     "end_time": "2024-10-06T20:11:22.548048Z",
     "start_time": "2024-10-06T20:11:22.399855Z"
    }
   },
   "outputs": [],
   "source": [
    "sns.set_style(\"whitegrid\")\n",
    "plt.figure(figsize=(10, 6))\n",
    "\n",
    "# Plot the boxplot\n",
    "sns.boxplot(data=updateassist_data)\n",
    "\n",
    "# Customizing the plot\n",
    "plt.title(\"Boxplot of c.updateassist\")\n",
    "plt.xlabel(\"Numbers of occurrences\")\n",
    "plt.ylabel(\"Time active\")\n",
    "plt.grid(True, alpha=0.3)\n",
    "plt.show()"
   ]
  },
  {
   "cell_type": "markdown",
   "metadata": {},
   "source": [
    "-   Again, logically, there are no outliers in uniform graph.\n"
   ]
  },
  {
   "cell_type": "markdown",
   "metadata": {},
   "source": [
    "### c.UCMobile.intl\n"
   ]
  },
  {
   "cell_type": "code",
   "execution_count": null,
   "metadata": {
    "ExecuteTime": {
     "end_time": "2024-10-06T20:12:06.890695Z",
     "start_time": "2024-10-06T20:12:06.569740Z"
    }
   },
   "outputs": [],
   "source": [
    "sns.set_style(\"whitegrid\")\n",
    "plt.figure(figsize=(10, 6))\n",
    "\n",
    "# Plot the histogram and KDE for the data\n",
    "sns.histplot(intl_data, bins=30, kde=True)\n",
    "plt.axvline(intl_mean, color=\"r\", linestyle=\"--\", label=f\"Mean: {intl_mean:.2f}\")\n",
    "\n",
    "# Customizing the plot\n",
    "plt.title(\"Distribution of c.UCMobile.intl\")\n",
    "plt.xlabel(\"Time active\")\n",
    "plt.ylabel(\"Numbers of occurrences\")\n",
    "plt.legend()\n",
    "plt.grid(True, alpha=0.3)\n",
    "plt.show()"
   ]
  },
  {
   "cell_type": "markdown",
   "metadata": {},
   "source": [
    "-   We again see uniform type of graph.\n"
   ]
  },
  {
   "cell_type": "code",
   "execution_count": null,
   "metadata": {},
   "outputs": [],
   "source": [
    "sns.set_style(\"whitegrid\")\n",
    "plt.figure(figsize=(10, 6))\n",
    "\n",
    "# Fit the uniform distribution\n",
    "a = intl_data.min()\n",
    "b = intl_data.max()\n",
    "x = np.linspace(a, b, intl_data.size)\n",
    "uniform_dist = stats.uniform(loc=a, scale=b - a)\n",
    "\n",
    "# Plot histogram, KDE and uniform distribution\n",
    "sns.histplot(data=intl_data, bins=30, stat=\"density\", alpha=0.3, color=\"gray\", label=\"Histogram\")\n",
    "sns.kdeplot(data=intl_data, color=\"blue\", label=\"Actual Distribution\", linewidth=2)\n",
    "plt.plot(x, uniform_dist.pdf(x), color=\"red\", linestyle=\"--\", linewidth=2, label=\"Uniform Model\")\n",
    "\n",
    "# Customizing the plot\n",
    "plt.title(\"Uniform Distribution Fit for c.UCMobile.intl\")\n",
    "plt.xlim(-5, 105)\n",
    "plt.xlabel(\"Value\")\n",
    "plt.ylabel(\"Density\")\n",
    "plt.legend()\n",
    "plt.grid(True, alpha=0.3)\n",
    "plt.show()"
   ]
  },
  {
   "cell_type": "markdown",
   "metadata": {},
   "source": [
    "-   We see that the KDE is almost perfect with our uniform model, except of one small peak and small valley.\n"
   ]
  },
  {
   "cell_type": "code",
   "execution_count": null,
   "metadata": {
    "ExecuteTime": {
     "end_time": "2024-10-06T20:12:39.251390Z",
     "start_time": "2024-10-06T20:12:39.245089Z"
    }
   },
   "outputs": [],
   "source": [
    "intl_skew = stats.skew(intl_data)\n",
    "print(f\"Skewness of c.UCMobile.intl: {intl_skew}\")"
   ]
  },
  {
   "cell_type": "markdown",
   "metadata": {},
   "source": [
    "-   The skewness of 0.005795223191764485, even closer to 0 as our previous one, indicates that the data is almost perfectly symmetric.\n"
   ]
  },
  {
   "cell_type": "code",
   "execution_count": null,
   "metadata": {
    "ExecuteTime": {
     "end_time": "2024-10-06T20:12:50.696743Z",
     "start_time": "2024-10-06T20:12:50.550546Z"
    }
   },
   "outputs": [],
   "source": [
    "sns.set_style(\"whitegrid\")\n",
    "plt.figure(figsize=(10, 6))\n",
    "\n",
    "# Plot the boxplot\n",
    "sns.boxplot(data=intl_data)\n",
    "\n",
    "# Customizing the plot\n",
    "plt.title(\"Boxplot of c.UCMobile.intl\")\n",
    "plt.xlabel(\"Numbers of occurrences\")\n",
    "plt.ylabel(\"Time active\")\n",
    "plt.grid(True, alpha=0.3)\n",
    "plt.show()"
   ]
  },
  {
   "cell_type": "markdown",
   "metadata": {},
   "source": [
    "-   Again, logically, there are no outliers in uniform graph.\n"
   ]
  },
  {
   "cell_type": "markdown",
   "metadata": {},
   "source": [
    "# Test\n"
   ]
  },
  {
   "cell_type": "code",
   "execution_count": null,
   "metadata": {},
   "outputs": [],
   "source": [
    "fig, axes = plt.subplots(5, 2, figsize=(16, 26))\n",
    "\n",
    "# Chrome Data\n",
    "sns.histplot(chrome_data, bins=30, kde=True, ax=axes[0, 0])\n",
    "axes[0, 0].axvline(chrome_mean, color=\"r\", linestyle=\"--\", label=f\"Mean: {chrome_mean:.2f}\")\n",
    "axes[0, 0].set_title(\"Distribution of c.android.chrome\")\n",
    "axes[0, 0].legend()\n",
    "axes[0, 0].grid(True, alpha=0.3)\n",
    "\n",
    "# Dogalize Data\n",
    "sns.histplot(dogalize_data, bins=30, kde=True, ax=axes[0, 1])\n",
    "axes[0, 1].axvline(dogalize_mean, color=\"r\", linestyle=\"--\", label=f\"Mean: {dogalize_mean:.2f}\")\n",
    "axes[0, 1].set_title(\"Distribution of c.dogalize\")\n",
    "axes[0, 1].legend()\n",
    "axes[0, 1].grid(True, alpha=0.3)\n",
    "\n",
    "\n",
    "# GM Data\n",
    "sns.histplot(gm_data, bins=30, kde=True, ax=axes[1, 0])\n",
    "axes[1, 0].axvline(gm_mean, color=\"r\", linestyle=\"--\", label=f\"Mean: {gm_mean:.2f}\")\n",
    "axes[1, 0].set_title(\"Distribution of c.android.gm\")\n",
    "axes[1, 0].legend()\n",
    "axes[1, 0].grid(True, alpha=0.3)\n",
    "\n",
    "\n",
    "# Youtube Data\n",
    "sns.histplot(youtube_data, bins=30, kde=True, ax=axes[1, 1])\n",
    "axes[1, 1].axvline(youtube_mean, color=\"r\", linestyle=\"--\", label=f\"Mean: {youtube_mean:.2f}\")\n",
    "axes[1, 1].set_title(\"Distribution of c.android.youtube\")\n",
    "axes[1, 1].legend()\n",
    "axes[1, 1].grid(True, alpha=0.3)\n",
    "\n",
    "\n",
    "# Katana Data\n",
    "sns.histplot(katana_data, bins=30, kde=True, ax=axes[2, 0])\n",
    "axes[2, 0].axvline(katana_mean, color=\"r\", linestyle=\"--\", label=f\"Mean: {katana_mean:.2f}\")\n",
    "axes[2, 0].set_title(\"Distribution of c.katana\")\n",
    "axes[2, 0].legend()\n",
    "axes[2, 0].grid(True, alpha=0.3)\n",
    "\n",
    "\n",
    "# Raider Data\n",
    "sns.histplot(raider_data, bins=30, kde=True, ax=axes[2, 1])\n",
    "axes[2, 1].axvline(raider_mean, color=\"r\", linestyle=\"--\", label=f\"Mean: {raider_mean:.2f}\")\n",
    "axes[2, 1].set_title(\"Distribution of c.raider\")\n",
    "axes[2, 1].legend()\n",
    "axes[2, 1].grid(True, alpha=0.3)\n",
    "\n",
    "\n",
    "# Vending Data\n",
    "sns.histplot(vending_data, bins=30, kde=True, ax=axes[3, 0])\n",
    "axes[3, 0].axvline(vending_mean, color=\"r\", linestyle=\"--\", label=f\"Mean: {vending_mean:.2f}\")\n",
    "axes[3, 0].set_title(\"Distribution of c.android.vending\")\n",
    "axes[3, 0].legend()\n",
    "axes[3, 0].grid(True, alpha=0.3)\n",
    "\n",
    "\n",
    "# x86 Data\n",
    "sns.histplot(x86_data, bins=30, kde=True, ax=axes[3, 1])\n",
    "axes[3, 1].axvline(x86_mean, color=\"r\", linestyle=\"--\", label=f\"Mean: {x86_mean:.2f}\")\n",
    "axes[3, 1].set_title(\"Distribution of c.UCMobile.x86\")\n",
    "axes[3, 1].legend()\n",
    "axes[3, 1].grid(True, alpha=0.3)\n",
    "\n",
    "\n",
    "# Updateassist Data\n",
    "sns.histplot(updateassist_data, bins=30, kde=True, ax=axes[4, 0])\n",
    "axes[4, 0].axvline(updateassist_mean, color=\"r\", linestyle=\"--\", label=f\"Mean: {updateassist_mean:.2f}\")\n",
    "axes[4, 0].set_title(\"Distribution of c.updateassist\")\n",
    "axes[4, 0].legend()\n",
    "axes[4, 0].grid(True, alpha=0.3)\n",
    "\n",
    "\n",
    "# intl Data\n",
    "sns.histplot(intl_data, bins=30, kde=True, ax=axes[4, 1])\n",
    "axes[4, 1].axvline(intl_mean, color=\"r\", linestyle=\"--\", label=f\"Mean: {intl_mean:.2f}\")\n",
    "axes[4, 1].set_title(\"Distribution of c.UCMobile.intl\")\n",
    "axes[4, 1].legend()\n",
    "axes[4, 1].grid(True, alpha=0.3)\n",
    "\n",
    "# Adjust the layout\n",
    "plt.tight_layout(w_pad=3, h_pad=3)\n",
    "plt.show()"
   ]
  },
  {
   "cell_type": "code",
   "execution_count": null,
   "metadata": {},
   "outputs": [],
   "source": [
    "fig, axes = plt.subplots(5, 2, figsize=(16, 26))\n",
    "\n",
    "# Chrome Data\n",
    "sns.histplot(\n",
    "    data=chrome_data, bins=30, stat=\"density\", alpha=0.3, color=\"gray\", label=\"Histogram\", ax=axes[0, 0]\n",
    ")\n",
    "sns.kdeplot(data=chrome_data, color=\"blue\", label=\"Actual Distribution\", linewidth=2, ax=axes[0, 0])\n",
    "x = np.linspace(chrome_data.min(), chrome_data.max(), 100)\n",
    "gaussian = stats.norm.pdf(x, chrome_mean, chrome_std)\n",
    "axes[0, 0].plot(x, gaussian, color=\"red\", linestyle=\"--\", label=\"Gaussian Model\", linewidth=2)\n",
    "axes[0, 0].set_title(\"Comparison of c.android.chrome Distribution vs Gaussian Model\")\n",
    "axes[0, 0].legend()\n",
    "axes[0, 0].grid(True, alpha=0.3)\n",
    "\n",
    "# Dogalize Data\n",
    "sns.histplot(\n",
    "    data=dogalize_data, bins=30, stat=\"density\", alpha=0.3, color=\"gray\", label=\"Histogram\", ax=axes[0, 1]\n",
    ")\n",
    "sns.kdeplot(data=dogalize_data, color=\"blue\", label=\"Actual Distribution\", linewidth=2, ax=axes[0, 1])\n",
    "x = np.linspace(dogalize_data.min(), dogalize_data.max(), 100)\n",
    "gaussian = stats.norm.pdf(x, dogalize_mean, dogalize_std)\n",
    "axes[0, 1].plot(x, gaussian, color=\"red\", linestyle=\"--\", label=\"Gaussian Model\", linewidth=2)\n",
    "axes[0, 1].set_title(\"Comparison of c.dogalize Distribution vs Gaussian Model\")\n",
    "axes[0, 1].legend()\n",
    "axes[0, 1].grid(True, alpha=0.3)\n",
    "\n",
    "# GM Data\n",
    "sns.histplot(data=gm_data, bins=30, stat=\"density\", alpha=0.3, color=\"gray\", label=\"Histogram\", ax=axes[1, 0])\n",
    "sns.kdeplot(data=gm_data, color=\"blue\", label=\"Actual Distribution\", linewidth=2, ax=axes[1, 0])\n",
    "x = np.linspace(gm_data.min(), gm_data.max(), 100)\n",
    "gaussian = stats.norm.pdf(x, gm_mean, gm_std)\n",
    "axes[1, 0].plot(x, gaussian, color=\"red\", linestyle=\"--\", label=\"Gaussian Model\", linewidth=2)\n",
    "axes[1, 0].set_title(\"Comparison of c.android.gm Distribution vs Gaussian Model\")\n",
    "axes[1, 0].legend()\n",
    "axes[1, 0].grid(True, alpha=0.3)\n",
    "\n",
    "# Youtube Data\n",
    "sns.histplot(\n",
    "    data=youtube_data, bins=30, stat=\"density\", alpha=0.3, color=\"gray\", label=\"Histogram\", ax=axes[1, 1]\n",
    ")\n",
    "sns.kdeplot(data=youtube_data, color=\"blue\", label=\"Actual Distribution\", linewidth=2, ax=axes[1, 1])\n",
    "x = np.linspace(youtube_data.min(), youtube_data.max(), 100)\n",
    "gaussian = stats.norm.pdf(x, youtube_mean, youtube_std)\n",
    "axes[1, 1].plot(x, gaussian, color=\"red\", linestyle=\"--\", label=\"Gaussian Model\", linewidth=2)\n",
    "axes[1, 1].set_title(\"Comparison of c.android.youtube Distribution vs Gaussian Model\")\n",
    "axes[1, 1].legend()\n",
    "axes[1, 1].grid(True, alpha=0.3)\n",
    "\n",
    "# Katana Data\n",
    "sns.histplot(\n",
    "    data=katana_data, bins=30, stat=\"density\", alpha=0.3, color=\"gray\", label=\"Histogram\", ax=axes[2, 0]\n",
    ")\n",
    "sns.kdeplot(data=katana_data, color=\"blue\", label=\"Actual Distribution\", linewidth=2, ax=axes[2, 0])\n",
    "x = np.linspace(katana_data.min(), katana_data.max(), 100)\n",
    "gaussian = stats.norm.pdf(x, katana_mean, katana_std)\n",
    "axes[2, 0].plot(x, gaussian, color=\"red\", linestyle=\"--\", label=\"Gaussian Model\", linewidth=2)\n",
    "axes[2, 0].set_title(\"Comparison of c.katana Distribution vs Gaussian Model\")\n",
    "axes[2, 0].legend()\n",
    "axes[2, 0].grid(True, alpha=0.3)\n",
    "\n",
    "# Raider Data\n",
    "sns.histplot(\n",
    "    data=raider_data, bins=30, stat=\"density\", alpha=0.3, color=\"gray\", label=\"Histogram\", ax=axes[2, 1]\n",
    ")\n",
    "sns.kdeplot(data=raider_data, color=\"blue\", label=\"Actual Distribution\", linewidth=2, ax=axes[2, 1])\n",
    "x = np.linspace(raider_data.min(), raider_data.max(), 100)\n",
    "gaussian = stats.norm.pdf(x, raider_mean, raider_std)\n",
    "axes[2, 1].plot(x, gaussian, color=\"red\", linestyle=\"--\", label=\"Gaussian Model\", linewidth=2)\n",
    "axes[2, 1].set_title(\"Comparison of c.raider Distribution vs Gaussian Model\")\n",
    "axes[2, 1].legend()\n",
    "axes[2, 1].grid(True, alpha=0.3)\n",
    "\n",
    "# Vending Data\n",
    "a = intl_data.min()\n",
    "b = intl_data.max()\n",
    "x = np.linspace(a, b, intl_data.size)\n",
    "uniform_dist = stats.uniform(loc=a, scale=b - a)\n",
    "sns.histplot(\n",
    "    data=intl_data, bins=30, stat=\"density\", alpha=0.3, color=\"gray\", label=\"Histogram\", ax=axes[3, 0]\n",
    ")\n",
    "sns.kdeplot(data=intl_data, color=\"blue\", label=\"Actual Distribution\", linewidth=2, ax=axes[3, 0])\n",
    "axes[3, 0].plot(x, uniform_dist.pdf(x), color=\"red\", linestyle=\"--\", label=\"Uniform Model\", linewidth=2)\n",
    "axes[3, 0].set_title(\"Comparison of c.UCMobile.intl Distribution vs Uniform Model\")\n",
    "axes[3, 0].legend()\n",
    "axes[3, 0].grid(True, alpha=0.3)\n",
    "\n",
    "# x86 Data\n",
    "a = x86_data.min()\n",
    "b = x86_data.max()\n",
    "x = np.linspace(a, b, x86_data.size)\n",
    "uniform_dist = stats.uniform(loc=a, scale=b - a)\n",
    "sns.histplot(\n",
    "    data=x86_data, bins=30, stat=\"density\", alpha=0.3, color=\"gray\", label=\"Histogram\", ax=axes[3, 1]\n",
    ")\n",
    "sns.kdeplot(data=x86_data, color=\"blue\", label=\"Actual Distribution\", linewidth=2, ax=axes[3, 1])\n",
    "axes[3, 1].plot(x, uniform_dist.pdf(x), color=\"red\", linestyle=\"--\", label=\"Uniform Model\", linewidth=2)\n",
    "axes[3, 1].set_title(\"Comparison of c.UCMobile.x86 Distribution vs Uniform Model\")\n",
    "axes[3, 1].legend()\n",
    "axes[3, 1].grid(True, alpha=0.3)\n",
    "\n",
    "# Updateassist Data\n",
    "a = updateassist_data.min()\n",
    "b = updateassist_data.max()\n",
    "x = np.linspace(a, b, updateassist_data.size)\n",
    "uniform_dist = stats.uniform(loc=a, scale=b - a)\n",
    "sns.histplot(\n",
    "    data=updateassist_data, bins=30, stat=\"density\", alpha=0.3, color=\"gray\", label=\"Histogram\", ax=axes[4, 0]\n",
    ")\n",
    "sns.kdeplot(data=updateassist_data, color=\"blue\", label=\"Actual Distribution\", linewidth=2, ax=axes[4, 0])\n",
    "axes[4, 0].plot(x, uniform_dist.pdf(x), color=\"red\", linestyle=\"--\", label=\"Uniform Model\", linewidth=2)\n",
    "axes[4, 0].set_title(\"Comparison of c.updateassist Distribution vs Uniform Model\")\n",
    "axes[4, 0].legend()\n",
    "axes[4, 0].grid(True, alpha=0.3)\n",
    "\n",
    "# intl Data\n",
    "a = intl_data.min()\n",
    "b = intl_data.max()\n",
    "x = np.linspace(a, b, intl_data.size)\n",
    "uniform_dist = stats.uniform(loc=a, scale=b - a)\n",
    "sns.histplot(\n",
    "    data=intl_data, bins=30, stat=\"density\", alpha=0.3, color=\"gray\", label=\"Histogram\", ax=axes[4, 1]\n",
    ")\n",
    "sns.kdeplot(data=intl_data, color=\"blue\", label=\"Actual Distribution\", linewidth=2, ax=axes[4, 1])\n",
    "axes[4, 1].plot(x, uniform_dist.pdf(x), color=\"red\", linestyle=\"--\", label=\"Uniform Model\", linewidth=2)\n",
    "axes[4, 1].set_title(\"Comparison of c.UCMobile.intl Distribution vs Uniform Model\")\n",
    "axes[4, 1].legend()\n",
    "axes[4, 1].grid(True, alpha=0.3)\n",
    "\n",
    "# Adjust the layout\n",
    "plt.tight_layout(w_pad=3, h_pad=3)\n",
    "plt.show()"
   ]
  },
  {
   "cell_type": "code",
   "execution_count": null,
   "metadata": {},
   "outputs": [],
   "source": [
    "apps = [\n",
    "    \"c.android.chrome\",\n",
    "    \"c.dogalize\",\n",
    "    \"c.android.gm\",\n",
    "    \"c.android.youtube\",\n",
    "    \"c.katana\",\n",
    "    \"c.raider\",\n",
    "    \"c.android.vending\",\n",
    "    \"c.UCMobile.x86\",\n",
    "    \"c.updateassist\",\n",
    "    \"c.UCMobile.intl\",\n",
    "]\n",
    "\n",
    "means = [\n",
    "    chrome_mean,\n",
    "    dogalize_mean,\n",
    "    gm_mean,\n",
    "    youtube_mean,\n",
    "    katana_mean,\n",
    "    raider_mean,\n",
    "    vending_mean,\n",
    "    x86_mean,\n",
    "    updateassist_mean,\n",
    "    intl_mean,\n",
    "]\n",
    "\n",
    "medians = [\n",
    "    chrome_data.median(),\n",
    "    dogalize_data.median(),\n",
    "    gm_data.median(),\n",
    "    youtube_data.median(),\n",
    "    katana_data.median(),\n",
    "    raider_data.median(),\n",
    "    vending_data.median(),\n",
    "    x86_data.median(),\n",
    "    updateassist_data.median(),\n",
    "    intl_data.median(),\n",
    "]\n",
    "\n",
    "max_values = []\n",
    "most_occurring_values = []\n",
    "\n",
    "value_counts = chrome_data.value_counts()\n",
    "max_val = value_counts.max()\n",
    "max_values.append(max_val)\n",
    "most_occurring_values.append(value_counts[value_counts == max_val].index.tolist())\n",
    "\n",
    "\n",
    "value_counts = dogalize_data.value_counts()\n",
    "max_val = value_counts.max()\n",
    "max_values.append(max_val)\n",
    "most_occurring_values.append(value_counts[value_counts == max_val].index.tolist())\n",
    "\n",
    "\n",
    "value_counts = gm_data.value_counts()\n",
    "max_val = value_counts.max()\n",
    "max_values.append(max_val)\n",
    "most_occurring_values.append(value_counts[value_counts == max_val].index.tolist())\n",
    "\n",
    "\n",
    "value_counts = youtube_data.value_counts()\n",
    "max_val = value_counts.max()\n",
    "max_values.append(max_val)\n",
    "most_occurring_values.append(value_counts[value_counts == max_val].index.tolist())\n",
    "\n",
    "\n",
    "value_counts = katana_data.value_counts()\n",
    "max_val = value_counts.max()\n",
    "max_values.append(max_val)\n",
    "most_occurring_values.append(value_counts[value_counts == max_val].index.tolist())\n",
    "\n",
    "\n",
    "value_counts = raider_data.value_counts()\n",
    "max_val = value_counts.max()\n",
    "max_values.append(max_val)\n",
    "most_occurring_values.append(value_counts[value_counts == max_val].index.tolist())\n",
    "\n",
    "\n",
    "value_counts = vending_data.value_counts()\n",
    "max_val = value_counts.max()\n",
    "max_values.append(max_val)\n",
    "most_occurring_values.append(value_counts[value_counts == max_val].index.tolist())\n",
    "\n",
    "\n",
    "value_counts = x86_data.value_counts()\n",
    "max_val = value_counts.max()\n",
    "max_values.append(max_val)\n",
    "most_occurring_values.append(value_counts[value_counts == max_val].index.tolist())\n",
    "\n",
    "\n",
    "value_counts = updateassist_data.value_counts()\n",
    "max_val = value_counts.max()\n",
    "max_values.append(max_val)\n",
    "most_occurring_values.append(value_counts[value_counts == max_val].index.tolist())\n",
    "\n",
    "value_counts = intl_data.value_counts()\n",
    "max_val = value_counts.max()\n",
    "max_values.append(max_val)\n",
    "most_occurring_values.append(value_counts[value_counts == max_val].index.tolist())\n",
    "\n",
    "for i in range(len(most_occurring_values)):\n",
    "    most_occurring_values[i] = most_occurring_values[i][: min(3, len(most_occurring_values[i]))]\n",
    "\n",
    "\n",
    "data = {\n",
    "    \"connection\": apps,\n",
    "    \"mean\": means,\n",
    "    \"median\": medians,\n",
    "    \"mode_count\": max_values,\n",
    "    \"mode_values\": most_occurring_values,\n",
    "}\n",
    "\n",
    "df = pd.DataFrame(data)\n",
    "df"
   ]
  },
  {
   "cell_type": "code",
   "execution_count": null,
   "metadata": {},
   "outputs": [],
   "source": [
    "data = {\n",
    "    \"Connection\": [\n",
    "        \"c.android.chrome\",\n",
    "        \"c.dogalize\",\n",
    "        \"c.android.gm\",\n",
    "        \"c.android.youtube\",\n",
    "        \"c.katana\",\n",
    "        \"c.raider\",\n",
    "        \"c.android.vending\",\n",
    "        \"c.UCMobile.x86\",\n",
    "        \"c.updateassist\",\n",
    "        \"c.UCMobile.intl\",\n",
    "    ],\n",
    "    \"Skew\": [\n",
    "        stats.skew(chrome_data),\n",
    "        stats.skew(dogalize_data),\n",
    "        stats.skew(gm_data),\n",
    "        stats.skew(youtube_data),\n",
    "        stats.skew(katana_data),\n",
    "        stats.skew(raider_data),\n",
    "        stats.skew(vending_data),\n",
    "        stats.skew(x86_data),\n",
    "        stats.skew(updateassist_data),\n",
    "        stats.skew(intl_data),\n",
    "    ],\n",
    "    \"Kurtosis\": [\n",
    "        stats.kurtosis(chrome_data),\n",
    "        stats.kurtosis(dogalize_data),\n",
    "        stats.kurtosis(gm_data),\n",
    "        stats.kurtosis(youtube_data),\n",
    "        stats.kurtosis(katana_data),\n",
    "        stats.kurtosis(raider_data),\n",
    "        stats.kurtosis(vending_data),\n",
    "        stats.kurtosis(x86_data),\n",
    "        stats.kurtosis(updateassist_data),\n",
    "        stats.kurtosis(intl_data),\n",
    "    ],\n",
    "}\n",
    "\n",
    "df = pd.DataFrame(data)\n",
    "df[\"Result skew\"] = np.nan\n",
    "\n",
    "\n",
    "def skewness_type(skew_value):\n",
    "    if skew_value <= -1:\n",
    "        return \"Highly Negative Skew\"\n",
    "    elif skew_value <= -0.5:\n",
    "        return \"Moderately Negative Skew\"\n",
    "    elif skew_value <= 0.5:\n",
    "        return \"Approximately Symmetric\"\n",
    "    elif skew_value <= 1:\n",
    "        return \"Moderately Positive Skew\"\n",
    "    else:\n",
    "        return \"Highly Positive Skew\"\n",
    "\n",
    "\n",
    "def kurtosis_type(kurtosis_value):\n",
    "    if kurtosis_value < -2:\n",
    "        return \"Highly Platykurtic\"\n",
    "    elif kurtosis_value < -1:\n",
    "        return \"Platykurtic\"\n",
    "    elif kurtosis_value < 1:\n",
    "        return \"Mesokurtic\"\n",
    "    elif kurtosis_value < 2:\n",
    "        return \"Leptokurtic\"\n",
    "    else:\n",
    "        return \"Highly Leptokurtic\"\n",
    "\n",
    "\n",
    "df[\"Result skew\"] = df[\"Skew\"].apply(skewness_type)\n",
    "df"
   ]
  }
 ],
 "metadata": {
  "kernelspec": {
   "display_name": ".venv",
   "language": "python",
   "name": "python3"
  },
  "language_info": {
   "codemirror_mode": {
    "name": "ipython",
    "version": 3
   },
   "file_extension": ".py",
   "mimetype": "text/x-python",
   "name": "python",
   "nbconvert_exporter": "python",
   "pygments_lexer": "ipython3",
   "version": "3.12.2"
  }
 },
 "nbformat": 4,
 "nbformat_minor": 2
}
