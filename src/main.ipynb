{
 "cells": [
  {
   "cell_type": "code",
   "metadata": {},
   "source": [
    "import pandas\n",
    "import matplotlib.pyplot as plt\n",
    "import seaborn as sns\n",
    "\n",
    "\n",
    "file_path: str = \"../dataset\"\n",
    "files: tuple[str, ...] = (\"connections\", \"devices\", \"processes\", \"profiles\")\n",
    "\n",
    "dataset = {}\n",
    "for file in files:\n",
    "    dataset[file] = pandas.read_csv(f\"{file_path}/{file}.csv\", sep=\"\\t\")\n",
    "    "
   ],
   "outputs": [],
   "execution_count": null
  },
  {
   "cell_type": "markdown",
   "metadata": {},
   "source": [
    "Connections description\n"
   ]
  },
  {
   "metadata": {},
   "cell_type": "code",
   "outputs": [],
   "execution_count": null,
   "source": [
    "dataset[\"connections\"].info()\n",
    "summary = dataset[\"connections\"].describe()\n",
    "median = dataset[\"connections\"].select_dtypes(include=[\"float64\", \"int64\"]).median() # adding median to describe method output \n",
    "summary.loc[\"median\"] = median \n",
    "summary"
   ]
  },
  {
   "metadata": {},
   "cell_type": "markdown",
   "source": "# MARKDOWN"
  },
  {
   "metadata": {},
   "cell_type": "code",
   "source": [
    "median.transpose().plot(kind=\"bar\", figsize=(10, 6), width=0.8)\n",
    "\n",
    "# Add a title and labels\n",
    "plt.title(\"Summary Statistics with Median for Connections\")\n",
    "plt.xlabel(\"Columns\")\n",
    "plt.ylabel(\"Values\")\n",
    "\n",
    "# Rotate the x-axis labels for better readability\n",
    "plt.xticks(rotation=45, ha=\"right\")\n",
    "\n",
    "# Show the plot\n",
    "plt.tight_layout()\n",
    "plt.show()"
   ],
   "outputs": [],
   "execution_count": null
  },
  {
   "metadata": {},
   "cell_type": "code",
   "source": "",
   "outputs": [],
   "execution_count": null
  },
  {
   "cell_type": "code",
   "metadata": {},
   "source": [
    "dataset[\"connections\"].head()"
   ],
   "outputs": [],
   "execution_count": null
  },
  {
   "cell_type": "markdown",
   "metadata": {},
   "source": [
    "Devices description\n"
   ]
  },
  {
   "cell_type": "code",
   "metadata": {},
   "source": [
    "dataset[\"devices\"].info()\n",
    "dataset[\"devices\"].describe()"
   ],
   "outputs": [],
   "execution_count": null
  },
  {
   "cell_type": "code",
   "metadata": {},
   "source": [
    "dataset[\"devices\"].head()"
   ],
   "outputs": [],
   "execution_count": null
  },
  {
   "cell_type": "markdown",
   "metadata": {},
   "source": [
    "Processes description\n"
   ]
  },
  {
   "cell_type": "code",
   "metadata": {},
   "source": [
    "dataset[\"processes\"].info()\n",
    "dataset[\"processes\"].describe()"
   ],
   "outputs": [],
   "execution_count": null
  },
  {
   "cell_type": "code",
   "metadata": {},
   "source": [
    "dataset[\"processes\"].head()"
   ],
   "outputs": [],
   "execution_count": null
  },
  {
   "cell_type": "markdown",
   "metadata": {},
   "source": [
    "Profiles description\n"
   ]
  },
  {
   "cell_type": "code",
   "metadata": {},
   "source": [
    "dataset[\"profiles\"].info()\n",
    "dataset[\"profiles\"].describe()"
   ],
   "outputs": [],
   "execution_count": null
  },
  {
   "cell_type": "code",
   "metadata": {},
   "source": [
    "dataset[\"profiles\"].head()"
   ],
   "outputs": [],
   "execution_count": null
  }
 ],
 "metadata": {
  "kernelspec": {
   "display_name": ".venv",
   "language": "python",
   "name": "python3"
  },
  "language_info": {
   "codemirror_mode": {
    "name": "ipython",
    "version": 3
   },
   "file_extension": ".py",
   "mimetype": "text/x-python",
   "name": "python",
   "nbconvert_exporter": "python",
   "pygments_lexer": "ipython3",
   "version": "3.12.2"
  }
 },
 "nbformat": 4,
 "nbformat_minor": 2
}
